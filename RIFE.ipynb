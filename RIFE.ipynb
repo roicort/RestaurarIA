{
 "cells": [
  {
   "cell_type": "markdown",
   "metadata": {
    "id": "rirngW5uRMdg"
   },
   "source": [
    "Please upload your video to content/arXiv2020-RIFE/video.mp4, or use our demo video."
   ]
  },
  {
   "cell_type": "code",
   "execution_count": 1,
   "metadata": {},
   "outputs": [
    {
     "name": "stdout",
     "output_type": "stream",
     "text": [
      "name, driver_version, memory.total [MiB]\n",
      "Quadro P5000, 450.36.06, 16278 MiB\n"
     ]
    }
   ],
   "source": [
    "!nvidia-smi --query-gpu=gpu_name,driver_version,memory.total --format=csv"
   ]
  },
  {
   "cell_type": "code",
   "execution_count": 5,
   "metadata": {},
   "outputs": [
    {
     "name": "stdout",
     "output_type": "stream",
     "text": [
      "usage: inference_video.py [-h] [--video VIDEO] [--img IMG] [--montage] [--UHD]\n",
      "                          [--skip] [--fps FPS] [--png] [--ext EXT] [--exp EXP]\n",
      "\n",
      "Interpolation for a pair of images\n",
      "\n",
      "optional arguments:\n",
      "  -h, --help     show this help message and exit\n",
      "  --video VIDEO\n",
      "  --img IMG\n",
      "  --montage      montage origin video\n",
      "  --UHD          support 4k video\n",
      "  --skip         whether to remove static frames before processing\n",
      "  --fps FPS\n",
      "  --png          whether to vid_out png format vid_outs\n",
      "  --ext EXT      vid_out video extension\n",
      "  --exp EXP\n"
     ]
    }
   ],
   "source": [
    "!python inference_video.py -h"
   ]
  },
  {
   "cell_type": "code",
   "execution_count": 3,
   "metadata": {},
   "outputs": [
    {
     "name": "stdout",
     "output_type": "stream",
     "text": [
      "agnikai.mp4, 8862.0 frames in total, 23.976023976023978FPS to 95.90409590409591FPS\n",
      "The audio will be merged after interpolation process\n",
      "100%|██████████████████████████████████▉| 8861/8862.0 [1:01:44<00:00,  2.39it/s]\n",
      "\u001b[1;36m[mpeg4 @ 0x513d4b40] \u001b[0m\u001b[1;31mInvalid pts (35444) <= last (35444)\n",
      "\u001b[0mfree(): corrupted unsorted chunks\n",
      "Aborted (core dumped)\n"
     ]
    }
   ],
   "source": [
    "!python inference_video.py --exp=2 --video=agnikai.mp4"
   ]
  },
  {
   "cell_type": "code",
   "execution_count": null,
   "metadata": {},
   "outputs": [],
   "source": []
  }
 ],
 "metadata": {
  "accelerator": "GPU",
  "colab": {
   "include_colab_link": true,
   "name": "Untitled0.ipynb",
   "provenance": []
  },
  "kernelspec": {
   "display_name": "Python 3",
   "language": "python",
   "name": "python3"
  },
  "language_info": {
   "codemirror_mode": {
    "name": "ipython",
    "version": 3
   },
   "file_extension": ".py",
   "mimetype": "text/x-python",
   "name": "python",
   "nbconvert_exporter": "python",
   "pygments_lexer": "ipython3",
   "version": "3.6.8"
  }
 },
 "nbformat": 4,
 "nbformat_minor": 4
}
