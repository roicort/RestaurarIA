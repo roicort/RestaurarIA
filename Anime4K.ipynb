{
 "cells": [
  {
   "cell_type": "markdown",
   "metadata": {},
   "source": [
    "# Anime4k"
   ]
  },
  {
   "cell_type": "code",
   "execution_count": 5,
   "metadata": {},
   "outputs": [
    {
     "name": "stdout",
     "output_type": "stream",
     "text": [
      "Hit:1 http://archive.ubuntu.com/ubuntu bionic InRelease\n",
      "Hit:2 http://ppa.launchpad.net/deadsnakes/ppa/ubuntu bionic InRelease      \n",
      "Hit:3 http://archive.ubuntu.com/ubuntu bionic-updates InRelease                \n",
      "Hit:4 http://security.ubuntu.com/ubuntu bionic-security InRelease        \n",
      "Hit:5 http://archive.ubuntu.com/ubuntu bionic-backports InRelease\n",
      "Reading package lists... Done                      \n",
      "Reading package lists... Done\n",
      "Building dependency tree       \n",
      "Reading state information... Done\n",
      "libgtk2.0-0 is already the newest version (2.24.32-1ubuntu1).\n",
      "libgl1-mesa-glx is already the newest version (20.0.8-0ubuntu1~18.04.1).\n",
      "ffmpeg is already the newest version (7:3.4.8-0ubuntu0.2).\n",
      "0 upgraded, 0 newly installed, 0 to remove and 128 not upgraded.\n"
     ]
    }
   ],
   "source": [
    "!apt-get update && apt-get install libgl1-mesa-glx ffmpeg libgtk2.0-0"
   ]
  },
  {
   "cell_type": "code",
   "execution_count": null,
   "metadata": {},
   "outputs": [
    {
     "name": "stdout",
     "output_type": "stream",
     "text": [
      "--2021-01-13 18:32:43--  https://github.com/TianZerL/pyanime4k/raw/master/setup_wheel_ubuntu.sh\n",
      "Resolving github.com (github.com)... 140.82.113.3\n",
      "Connecting to github.com (github.com)|140.82.113.3|:443... connected.\n",
      "HTTP request sent, awaiting response... 302 Found\n",
      "Location: https://raw.githubusercontent.com/TianZerL/pyanime4k/master/setup_wheel_ubuntu.sh [following]\n",
      "--2021-01-13 18:32:43--  https://raw.githubusercontent.com/TianZerL/pyanime4k/master/setup_wheel_ubuntu.sh\n",
      "Resolving raw.githubusercontent.com (raw.githubusercontent.com)... 151.101.0.133, 151.101.64.133, 151.101.128.133, ...\n",
      "Connecting to raw.githubusercontent.com (raw.githubusercontent.com)|151.101.0.133|:443... connected.\n",
      "HTTP request sent, awaiting response... 200 OK\n",
      "Length: 1067 (1.0K) [text/plain]\n",
      "Saving to: ‘setup_wheel_ubuntu.sh’\n",
      "\n",
      "setup_wheel_ubuntu. 100%[===================>]   1.04K  --.-KB/s    in 0s      \n",
      "\n",
      "2021-01-13 18:32:44 (44.6 MB/s) - ‘setup_wheel_ubuntu.sh’ saved [1067/1067]\n",
      "\n",
      "Cloning into '/tmp/pyanime4k/pyanime4k'...\n",
      "remote: Enumerating objects: 326, done.\u001b[K\n",
      "remote: Total 326 (delta 0), reused 0 (delta 0), pack-reused 326\u001b[K\n",
      "Receiving objects: 100% (326/326), 54.92 KiB | 407.00 KiB/s, done.\n",
      "Resolving deltas: 100% (205/205), done.\n",
      "Hit:1 http://archive.ubuntu.com/ubuntu bionic InRelease\n",
      "Hit:2 http://ppa.launchpad.net/deadsnakes/ppa/ubuntu bionic InRelease\n",
      "Get:3 http://security.ubuntu.com/ubuntu bionic-security InRelease [88.7 kB]\n",
      "Get:4 http://archive.ubuntu.com/ubuntu bionic-updates InRelease [88.7 kB]      \n",
      "Get:5 http://security.ubuntu.com/ubuntu bionic-security/main amd64 Packages [1872 kB]\n",
      "Get:6 http://archive.ubuntu.com/ubuntu bionic-backports InRelease [74.6 kB]    \n",
      "Get:7 http://security.ubuntu.com/ubuntu bionic-security/universe amd64 Packages [1376 kB]\n",
      "Fetched 3500 kB in 2s (1946 kB/s)\n",
      "Reading package lists... Done\n",
      "Reading package lists... Done\n",
      "Building dependency tree       \n",
      "Reading state information... Done\n",
      "The following additional packages will be installed:\n",
      "  cmake-data cpp-7 dconf-gsettings-backend dconf-service g++-7 gcc-7\n",
      "  gcc-7-base gdal-data glib-networking glib-networking-common\n",
      "  glib-networking-services gsettings-desktop-schemas libaec0 libarchive13\n",
      "  libarmadillo8 libarpack2 libasan4 libatk-bridge2.0-0 libatspi2.0-0\n",
      "  libavcodec-dev libavformat-dev libavresample-dev libavutil-dev libblas3\n",
      "  libcairo-gobject2 libcharls1 libcilkrts5 libcolord2 libdap25 libdapclient6v5\n",
      "  libdc1394-22-dev libdconf1 libepoxy0 libepsilon1 libexif-dev libexif12\n",
      "  libfabric1 libfreexl1 libfyba0 libgcc-7-dev libgd3 libgdal20 libgdcm2-dev\n",
      "  libgdcm2.8 libgeos-3.6.2 libgeos-c1v5 libgeotiff2 libgfortran4 libgif7\n",
      "  libgl2ps1.4 libgphoto2-6 libgphoto2-dev libgphoto2-port12 libgtk-3-0\n",
      "  libgtk-3-common libhdf4-0-alt libhdf5-100 libhdf5-openmpi-100\n",
      "  libhwloc-plugins libhwloc5 libibverbs1 libice6 libilmbase-dev libilmbase12\n",
      "  libjbig-dev libjpeg-dev libjpeg-turbo8-dev libjpeg8-dev libjson-c3\n",
      "  libjson-glib-1.0-0 libjson-glib-1.0-common libjsoncpp1 libkmlbase1\n",
      "  libkmldom1 libkmlengine1 liblapack3 liblcms2-2 liblept5 libltdl7 liblzma-dev\n",
      "  liblzo2-2 libminizip1 libmysqlclient20 libnetcdf-c++4 libnetcdf13\n",
      "  libnl-3-200 libnl-route-3-200 libnspr4 libnss3 libodbc1 libogdi3.2\n",
      "  libopencv-calib3d-dev libopencv-calib3d3.2 libopencv-contrib-dev\n",
      "  libopencv-contrib3.2 libopencv-core-dev libopencv-core3.2\n",
      "  libopencv-features2d-dev libopencv-features2d3.2 libopencv-flann-dev\n",
      "  libopencv-flann3.2 libopencv-highgui-dev libopencv-highgui3.2\n",
      "  libopencv-imgcodecs-dev libopencv-imgcodecs3.2 libopencv-imgproc-dev\n",
      "  libopencv-imgproc3.2 libopencv-ml-dev libopencv-ml3.2\n",
      "  libopencv-objdetect-dev libopencv-objdetect3.2 libopencv-photo-dev\n",
      "  libopencv-photo3.2 libopencv-shape-dev libopencv-shape3.2\n",
      "  libopencv-stitching-dev libopencv-stitching3.2 libopencv-superres-dev\n",
      "  libopencv-superres3.2 libopencv-ts-dev libopencv-video-dev\n",
      "  libopencv-video3.2 libopencv-videoio-dev libopencv-videoio3.2\n",
      "  libopencv-videostab-dev libopencv-videostab3.2 libopencv-viz-dev\n",
      "  libopencv-viz3.2 libopencv3.2-java libopencv3.2-jni libopenexr-dev\n",
      "  libopenexr22 libopenmpi2 libpng-dev libpoppler73 libpq5 libproj12\n",
      "  libproxy1v5 libpsm-infinipath1 libpython2.7 libpython2.7-minimal\n",
      "  libpython2.7-stdlib libqhull7 libraw1394-dev librdmacm1 librest-0.7-0\n",
      "  librhash0 libsm6 libsocket++1 libsoup-gnome2.4-1 libsoup2.4-1 libspatialite7\n",
      "  libstdc++-7-dev libsuperlu5 libswresample-dev libswscale-dev libsz2\n",
      "  libtbb-dev libtbb2 libtcl8.6 libtesseract4 libtiff-dev libtiff5-dev\n",
      "  libtiffxx5 libtk8.6 libubsan0 liburiparser1 libuv1 libvtk6.3 libxerces-c3.2\n",
      "  libxft2 libxpm4 libxt6 mysql-common ocl-icd-libopencl1 odbcinst\n",
      "  odbcinst1debian2 opencl-c-headers pkg-config proj-data python-pip-whl tzdata\n",
      "  zlib1g-dev\n",
      "Suggested packages:\n",
      "  cmake-doc ninja-build gcc-7-locales g++-7-multilib gcc-7-doc\n",
      "  libstdc++6-7-dbg gcc-7-multilib libgcc1-dbg libgomp1-dbg libitm1-dbg\n",
      "  libatomic1-dbg libasan4-dbg liblsan0-dbg libtsan0-dbg libubsan0-dbg\n",
      "  libcilkrts5-dbg libmpx2-dbg libquadmath0-dbg lrzip colord libgd-tools\n",
      "  geotiff-bin gdal-bin libgeotiff-epsg gphoto2 gvfs libhdf4-doc\n",
      "  libhdf4-alt-dev hdf4-tools libhwloc-contrib-plugins liblcms2-utils\n",
      "  liblzma-doc libmyodbc odbc-postgresql tdsodbc unixodbc-bin ogdi-bin\n",
      "  opencv-doc proj-bin libraw1394-doc libstdc++-7-doc tbb-examples libtbb-doc\n",
      "  tcl8.6 tk8.6 mpi-default-bin vtk6-doc vtk6-examples opencl-icd libpoclu-dev\n",
      "Recommended packages:\n",
      "  at-spi2-core libexif-doc proj-bin libgphoto2-l10n libgtk-3-bin\n",
      "  ibverbs-providers opencv-data openmpi-bin libpng-tools poppler-data\n",
      "  libraw1394-tools libgl1-mesa-dev | libgl-dev python3-dev python3-setuptools\n",
      "  python3-wheel\n"
     ]
    }
   ],
   "source": [
    "# For Google Colab, you need to add \"!\" at the beginning\n",
    "# \"setup_wheel_ubuntu.sh\" need root permission for installing dependency library by apt\n",
    "!wget https://github.com/TianZerL/pyanime4k/raw/master/setup_wheel_ubuntu.sh && chmod 777 setup_wheel_ubuntu.sh && ./setup_wheel_ubuntu.sh"
   ]
  },
  {
   "cell_type": "code",
   "execution_count": 1,
   "metadata": {},
   "outputs": [],
   "source": [
    "# pathlib.Path path objects are recommended instead of strings\n",
    "import pathlib\n",
    "# import pyanime4k library\n",
    "import pyanime4k as pyk4"
   ]
  },
  {
   "cell_type": "code",
   "execution_count": null,
   "metadata": {},
   "outputs": [],
   "source": [
    "# upscale a single video file\n",
    "pyk4.upscale_videos(pathlib.Path('agnikai.mp4'),pathlib.Path('./output'))"
   ]
  },
  {
   "cell_type": "code",
   "execution_count": null,
   "metadata": {},
   "outputs": [],
   "source": []
  }
 ],
 "metadata": {
  "kernelspec": {
   "display_name": "Python 3",
   "language": "python",
   "name": "python3"
  },
  "language_info": {
   "codemirror_mode": {
    "name": "ipython",
    "version": 3
   },
   "file_extension": ".py",
   "mimetype": "text/x-python",
   "name": "python",
   "nbconvert_exporter": "python",
   "pygments_lexer": "ipython3",
   "version": "3.6.8"
  }
 },
 "nbformat": 4,
 "nbformat_minor": 4
}
