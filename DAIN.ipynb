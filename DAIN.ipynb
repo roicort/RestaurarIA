{
 "cells": [
  {
   "cell_type": "markdown",
   "metadata": {
    "colab_type": "text",
    "id": "1pIo4r_Y8cMo"
   },
   "source": [
    "# DAIN"
   ]
  },
  {
   "cell_type": "markdown",
   "metadata": {
    "colab_type": "text",
    "id": "iGPHW5SOpPe3"
   },
   "source": [
    "Based on the [original Colab file](https://github.com/baowenbo/DAIN/issues/44) by btahir. \n",
    "and [Alpha](https://github.com/AlphaGit)"
   ]
  },
  {
   "cell_type": "code",
   "execution_count": null,
   "metadata": {
    "colab": {},
    "colab_type": "code",
    "id": "-mRVRXIGPk9I"
   },
   "outputs": [],
   "source": [
    "# Clone DAIN sources\n",
    "# TODO Bring back original repo\n",
    "#!git clone https://github.com/baowenbo/DAIN /content/DAIN\n",
    "!git clone -b colab-compatibility --depth 1 https://github.com/AlphaGit/DAIN"
   ]
  },
  {
   "cell_type": "code",
   "execution_count": 61,
   "metadata": {},
   "outputs": [],
   "source": [
    "! rm -R DAIN/frames"
   ]
  },
  {
   "cell_type": "code",
   "execution_count": 62,
   "metadata": {},
   "outputs": [],
   "source": [
    "! mkdir DAIN/frames\n",
    "! mkdir DAIN/frames/input_frames && mkdir DAIN/frames/output_frames"
   ]
  },
  {
   "cell_type": "code",
   "execution_count": 63,
   "metadata": {
    "colab": {},
    "colab_type": "code",
    "id": "enKoi0TR2fOD"
   },
   "outputs": [],
   "source": [
    "################# Required Configurations ############################\n",
    "\n",
    "#@markdown # Required Configuration\n",
    "#@markdown Use the values in here to configure what you'd like DAIN to do.\n",
    "\n",
    "#@markdown ## Input file\n",
    "#@markdown Path (relative to the root of your Google Drive) to the input file. For instance, if you save your `example.mkv` file in your Google Drive, inside a `videos` folder, the path would be: `videos/example.mkv`. Currenly videos and gifs are supported.\n",
    "INPUT_FILEPATH = \"video/original.mp4\" #@param{type:\"string\"}\n",
    "\n",
    "#@markdown ## Output file\n",
    "#@markdown Output file path: path (relative to the root of your Google Drive) for the output file. It will also determine the filetype in the destination. `.mp4` is recommended for video input, `.gif` for gif inputs.\n",
    "OUTPUT_FILE_PATH = \"video/output.mp4\" #@param{type:\"string\"}\n",
    "\n",
    "################# Optional configurations ############################\n",
    "\n",
    "#@markdown # Optional Configuration\n",
    "#@markdown Parameters below can be left with their defaults, but feel free to adapt them to your needs.\n",
    "\n",
    "#@markdown ## Target FPS\n",
    "#@markdown  how many frames per second should the result have. This will determine how many intermediate images are interpolated.\n",
    "TARGET_FPS = 60 #@param{type:\"number\"}\n",
    "\n",
    "#@markdown ## Frame input directory\n",
    "#@markdown A path, relative to your GDrive root, where you already have the list of frames in the format 00001.png, 00002.png, etc.\n",
    "FRAME_INPUT_DIR = 'frames/input_frames' #@param{type:\"string\"}\n",
    "\n",
    "#@markdown ## Frame output directory\n",
    "#@markdown A path, relative to your GDrive root, where you want the generated frame.\n",
    "FRAME_OUTPUT_DIR = 'frames/output_frames' #@param{type:\"string\"}\n",
    "\n",
    "#@markdown ## Seamless playback\n",
    "#@markdown Creates a seamless loop by using the first frame as last one as well. Set this to True this if loop is intended.\n",
    "SEAMLESS = False #@param{type:\"boolean\"}\n",
    "\n",
    "#@markdown ## Resize hotfix\n",
    "#@markdown DAIN frames are a bit \"shifted / smaller\" compared to original input frames. This can partly be mitigated with resizing DAIN frames to the resolution +2px and cropping the result to the original resoultion with the starting point (1,1). Without this fix, DAIN tends to make \"vibrating\" output and it is pretty noticible with static elements like text.\n",
    "#@markdown\n",
    "#@markdown This hotfix tries to make such effects less visible for a smoother video playback. I do not know what DAINAPP uses as a fix for this problem, but the original does show such behaviour with the default test images. More advanced users can change the interpolation method. The methods cv2.INTER_CUBIC and cv2.INTER_LANCZOS4 are recommended. The current default value is cv2.INTER_LANCZOS4.\n",
    "RESIZE_HOTFIX = True #@param{type:\"boolean\"}\n",
    "\n",
    "#@markdown ## Auto-remove PNG directory\n",
    "#@markdown Auto-delete output PNG dir after ffmpeg video creation. Set this to `False` if you want to keep the PNG files.\n",
    "AUTO_REMOVE = True #@param{type:\"boolean\"}"
   ]
  },
  {
   "cell_type": "code",
   "execution_count": 64,
   "metadata": {
    "colab": {},
    "colab_type": "code",
    "id": "irzjv1x4e3S4"
   },
   "outputs": [
    {
     "name": "stdout",
     "output_type": "stream",
     "text": [
      "name, driver_version, memory.total [MiB]\n",
      "Quadro P5000, 450.36.06, 16278 MiB\n"
     ]
    }
   ],
   "source": [
    "# Check your current GPU\n",
    "# If you are lucky, you get 16GB VRAM. If you are not lucky, you get less. VRAM is important. The more VRAM, the higher the maximum resolution will go.\n",
    "\n",
    "# 16GB: Can handle 720p. 1080p will procude an out-of-memory error. \n",
    "# 8GB: Can handle 480p. 720p will produce an out-of-memory error.\n",
    "\n",
    "!nvidia-smi --query-gpu=gpu_name,driver_version,memory.total --format=csv"
   ]
  },
  {
   "cell_type": "markdown",
   "metadata": {
    "colab_type": "text",
    "id": "UYHTTP91oMvh"
   },
   "source": [
    "# Install dependencies.\n",
    "\n",
    "This next step may take somewhere between 15-20 minutes. Run this only once at startup.\n",
    "\n",
    "Look for the \"Finished installing dependencies\"  message."
   ]
  },
  {
   "cell_type": "code",
   "execution_count": null,
   "metadata": {},
   "outputs": [],
   "source": [
    "!apt-get update"
   ]
  },
  {
   "cell_type": "code",
   "execution_count": null,
   "metadata": {},
   "outputs": [],
   "source": [
    "!apt-get install imagemagick imagemagick-doc libgl1-mesa-glx ffmpeg"
   ]
  },
  {
   "cell_type": "code",
   "execution_count": null,
   "metadata": {},
   "outputs": [],
   "source": [
    "!pip install --upgrade pip"
   ]
  },
  {
   "cell_type": "code",
   "execution_count": null,
   "metadata": {
    "colab": {},
    "colab_type": "code",
    "id": "XunYRBtyPZf_"
   },
   "outputs": [],
   "source": [
    "# Install known used versions of PyTorch and SciPy\n",
    "!pip install torch==1.4.0+cu100 torchvision==0.5.0+cu100 -f https://download.pytorch.org/whl/torch_stable.html\n",
    "!pip install scipy==1.1.0"
   ]
  },
  {
   "cell_type": "code",
   "execution_count": null,
   "metadata": {},
   "outputs": [],
   "source": [
    "!pip install opencv-python\n",
    "!pip install imageio"
   ]
  },
  {
   "cell_type": "code",
   "execution_count": null,
   "metadata": {
    "colab": {},
    "colab_type": "code",
    "id": "e5AHGetTRacZ"
   },
   "outputs": [],
   "source": [
    "# This takes a while. Just wait. ~15 minutes.\n",
    "# Building DAIN.\n",
    "%cd DAIN/my_package/\n",
    "!./build.sh\n",
    "print(\"Building #1 done.\")\n",
    "%cd ../../"
   ]
  },
  {
   "cell_type": "code",
   "execution_count": null,
   "metadata": {
    "colab": {},
    "colab_type": "code",
    "id": "UeaU8um5-2NS"
   },
   "outputs": [],
   "source": [
    "# Wait again. ~5 minutes.\n",
    "# Building DAIN PyTorch correlation package.\n",
    "%cd DAIN/PWCNet/correlation_package_pytorch1_0\n",
    "!./build.sh\n",
    "print(\"Building #2 done.\")\n",
    "%cd ../../.."
   ]
  },
  {
   "cell_type": "code",
   "execution_count": null,
   "metadata": {
    "colab": {},
    "colab_type": "code",
    "id": "InjqMYIyXCZs"
   },
   "outputs": [],
   "source": [
    "# Downloading pre-trained model\n",
    "!mkdir DAIN/model_weights\n",
    "!wget -O DAIN/model_weights/best.pth http://vllab1.ucmerced.edu/~wenbobao/DAIN/best.pth"
   ]
  },
  {
   "cell_type": "code",
   "execution_count": null,
   "metadata": {
    "colab": {},
    "colab_type": "code",
    "id": "FrdWsqbvXEid"
   },
   "outputs": [],
   "source": [
    "!CUDA_VISIBLE_DEVICES=0\n",
    "print(\"Finished installing dependencies.\")"
   ]
  },
  {
   "cell_type": "markdown",
   "metadata": {},
   "source": [
    "# Start"
   ]
  },
  {
   "cell_type": "code",
   "execution_count": 65,
   "metadata": {},
   "outputs": [],
   "source": [
    "import os\n",
    "import cv2"
   ]
  },
  {
   "cell_type": "code",
   "execution_count": 66,
   "metadata": {
    "colab": {},
    "colab_type": "code",
    "id": "zm5kn6vTncL4"
   },
   "outputs": [],
   "source": [
    "# Detecting FPS of input file.\n",
    "\n",
    "filename = os.path.basename(INPUT_FILEPATH)\n",
    "\n",
    "cap = cv2.VideoCapture(f'video/{filename}')\n",
    "\n",
    "fps = cap.get(cv2.CAP_PROP_FPS)\n",
    "\n",
    "if(fps/TARGET_FPS>0.5):\n",
    "  print(\"Define a higher fps, because there is not enough time for new frames. (Old FPS)/(New FPS) should be lower than 0.5. Interpolation will fail if you try.\")"
   ]
  },
  {
   "cell_type": "code",
   "execution_count": 67,
   "metadata": {},
   "outputs": [
    {
     "name": "stdout",
     "output_type": "stream",
     "text": [
      "ffmpeg version 3.4.8-0ubuntu0.2 Copyright (c) 2000-2020 the FFmpeg developers\n",
      "  built with gcc 7 (Ubuntu 7.5.0-3ubuntu1~18.04)\n",
      "  configuration: --prefix=/usr --extra-version=0ubuntu0.2 --toolchain=hardened --libdir=/usr/lib/x86_64-linux-gnu --incdir=/usr/include/x86_64-linux-gnu --enable-gpl --disable-stripping --enable-avresample --enable-avisynth --enable-gnutls --enable-ladspa --enable-libass --enable-libbluray --enable-libbs2b --enable-libcaca --enable-libcdio --enable-libflite --enable-libfontconfig --enable-libfreetype --enable-libfribidi --enable-libgme --enable-libgsm --enable-libmp3lame --enable-libmysofa --enable-libopenjpeg --enable-libopenmpt --enable-libopus --enable-libpulse --enable-librubberband --enable-librsvg --enable-libshine --enable-libsnappy --enable-libsoxr --enable-libspeex --enable-libssh --enable-libtheora --enable-libtwolame --enable-libvorbis --enable-libvpx --enable-libwavpack --enable-libwebp --enable-libx265 --enable-libxml2 --enable-libxvid --enable-libzmq --enable-libzvbi --enable-omx --enable-openal --enable-opengl --enable-sdl2 --enable-libdc1394 --enable-libdrm --enable-libiec61883 --enable-chromaprint --enable-frei0r --enable-libopencv --enable-libx264 --enable-shared\n",
      "  libavutil      55. 78.100 / 55. 78.100\n",
      "  libavcodec     57.107.100 / 57.107.100\n",
      "  libavformat    57. 83.100 / 57. 83.100\n",
      "  libavdevice    57. 10.100 / 57. 10.100\n",
      "  libavfilter     6.107.100 /  6.107.100\n",
      "  libavresample   3.  7.  0 /  3.  7.  0\n",
      "  libswscale      4.  8.100 /  4.  8.100\n",
      "  libswresample   2.  9.100 /  2.  9.100\n",
      "  libpostproc    54.  7.100 / 54.  7.100\n",
      "Input #0, mov,mp4,m4a,3gp,3g2,mj2, from 'video/original.mp4':\n",
      "  Metadata:\n",
      "    major_brand     : mp42\n",
      "    minor_version   : 1\n",
      "    compatible_brands: isommp41mp42\n",
      "    creation_time   : 2020-09-13T01:36:43.000000Z\n",
      "  Duration: 00:01:22.48, start: -0.001333, bitrate: 4120 kb/s\n",
      "    Stream #0:0(spa): Audio: aac (LC) (mp4a / 0x6134706D), 48000 Hz, stereo, fltp, 125 kb/s (default)\n",
      "    Metadata:\n",
      "      creation_time   : 2020-09-13T01:36:43.000000Z\n",
      "      handler_name    : Core Media Audio\n",
      "    Stream #0:1(und): Video: h264 (High) (avc1 / 0x31637661), yuv420p(tv, bt709, progressive), 1280x720 [SAR 1:1 DAR 16:9], 3982 kb/s, 29.97 fps, 29.97 tbr, 30k tbn, 60k tbc (default)\n",
      "    Metadata:\n",
      "      creation_time   : 2020-09-13T01:36:43.000000Z\n",
      "      handler_name    : Core Media Video\n",
      "Stream mapping:\n",
      "  Stream #0:1 -> #0:0 (h264 (native) -> png (native))\n",
      "Press [q] to stop, [?] for help\n",
      "Output #0, image2, to 'DAIN/frames/input_frames/%05d.png':\n",
      "  Metadata:\n",
      "    major_brand     : mp42\n",
      "    minor_version   : 1\n",
      "    compatible_brands: isommp41mp42\n",
      "    encoder         : Lavf57.83.100\n",
      "    Stream #0:0(und): Video: png, rgb24, 1280x720 [SAR 1:1 DAR 16:9], q=2-31, 200 kb/s, 29.97 fps, 29.97 tbn, 29.97 tbc (default)\n",
      "    Metadata:\n",
      "      creation_time   : 2020-09-13T01:36:43.000000Z\n",
      "      handler_name    : Core Media Video\n",
      "      encoder         : Lavc57.107.100 png\n",
      "frame= 2472 fps= 87 q=-0.0 Lsize=N/A time=00:01:22.48 bitrate=N/A speed=2.91x    \n",
      "video:1820967kB audio:0kB subtitle:0kB other streams:0kB global headers:0kB muxing overhead: unknown\n"
     ]
    }
   ],
   "source": [
    "# ffmpeg extract - Generating individual frame PNGs from the source file.\n",
    "! ffmpeg -i 'video/{filename}' 'DAIN/{FRAME_INPUT_DIR}/%05d.png'"
   ]
  },
  {
   "cell_type": "code",
   "execution_count": 68,
   "metadata": {},
   "outputs": [],
   "source": [
    "import subprocess as sp"
   ]
  },
  {
   "cell_type": "code",
   "execution_count": 80,
   "metadata": {},
   "outputs": [],
   "source": [
    "pngs_generated_count = int(sp.getoutput('ls '+'DAIN/'+FRAME_INPUT_DIR+' | wc -l'))"
   ]
  },
  {
   "cell_type": "code",
   "execution_count": 81,
   "metadata": {},
   "outputs": [
    {
     "data": {
      "text/plain": [
       "2472"
      ]
     },
     "execution_count": 81,
     "metadata": {},
     "output_type": "execute_result"
    }
   ],
   "source": [
    "pngs_generated_count"
   ]
  },
  {
   "cell_type": "code",
   "execution_count": 82,
   "metadata": {
    "colab": {},
    "colab_type": "code",
    "id": "9YNva-GuKq4Y"
   },
   "outputs": [
    {
     "name": "stdout",
     "output_type": "stream",
     "text": [
      "Input FPS: 29.97002997002997\n",
      "2472 frame PNGs generated.\n",
      "/notebooks/DAIN/frames/input_frames\n",
      "srgb detected\n",
      "/notebooks/DAIN\n"
     ]
    }
   ],
   "source": [
    "%cd DAIN/\n",
    "from IPython.display import clear_output\n",
    "clear_output()\n",
    "\n",
    "import shutil\n",
    "if SEAMLESS==True:\n",
    "  pngs_generated_count += 1\n",
    "  original = str(FRAME_INPUT_DIR)+\"/00001.png\"\n",
    "  target = str(FRAME_INPUT_DIR)+\"/\"+str(pngs_generated_count).zfill(5)+\".png\"\n",
    "  shutil.copyfile(original, target)\n",
    "\n",
    "print(f\"Input FPS: {fps}\")\n",
    "print(f\"{pngs_generated_count} frame PNGs generated.\")\n",
    "\n",
    "# Checking if PNG do have alpha\n",
    "%cd {FRAME_INPUT_DIR}\n",
    "channels = sp.getoutput('identify -format %[channels] 00001.png')\n",
    "print (f\"{channels} detected\")\n",
    "\n",
    "# Removing alpha if detected\n",
    "if \"a\" in channels:\n",
    "  print(\"Alpha detected and will be removed.\")\n",
    "  print(sp.getoutput('find . -name \"*.png\" -exec convert \"{}\" -alpha off PNG24:\"{}\" \\;'))\n",
    "\n",
    "%cd ../../"
   ]
  },
  {
   "cell_type": "code",
   "execution_count": 83,
   "metadata": {},
   "outputs": [],
   "source": [
    "# Interpolation"
   ]
  },
  {
   "cell_type": "code",
   "execution_count": null,
   "metadata": {
    "colab": {},
    "colab_type": "code",
    "id": "W3rrE7L824gL"
   },
   "outputs": [
    {
     "name": "stdout",
     "output_type": "stream",
     "text": [
      "revise the unique id to a random numer 10225\n",
      "Namespace(SAVED_MODEL=None, alpha=[0.0, 1.0], arg='./model_weights/10225-Wed-Sep-16-02-37/args.txt', batch_size=1, channels=3, ctx_lr_coe=1.0, datasetName='Vimeo_90K_interp', datasetPath='', dataset_split=97, debug=False, depth_lr_coe=0.001, dtype=<class 'torch.cuda.FloatTensor'>, end_frame=2472, epsilon=1e-06, factor=0.2, filter_lr_coe=1.0, filter_size=4, flow_lr_coe=0.01, force=False, frame_input_dir='frames/input_frames', frame_output_dir='frames/output_frames', log='./model_weights/10225-Wed-Sep-16-02-37/log.txt', lr=0.002, netName='DAIN_slowmotion', no_date=False, numEpoch=100, occ_lr_coe=1.0, patience=5, rectify_lr=0.001, save_path='./model_weights/10225-Wed-Sep-16-02-37', save_which=1, seed=1, start_frame=1, time_step=0.4995004995004995, uid=None, use_cuda=True, use_cudnn=1, weight_decay=0, workers=8)\n",
      "cudnn is used\n",
      "Interpolate 1 frames\n",
      "****** Processed frame 1 | Time per frame (avg): 23.98s | Time left: 16:27:28.342903 ******************\n",
      "****** Processed frame 2 | Time per frame (avg): 13.42s | Time left: 9:12:35.840510 ******************\n"
     ]
    }
   ],
   "source": [
    "!python -W ignore colab_interpolate.py --netName DAIN_slowmotion --time_step {fps/TARGET_FPS} --start_frame 1 --end_frame {pngs_generated_count} --frame_input_dir '{FRAME_INPUT_DIR}' --frame_output_dir '{FRAME_OUTPUT_DIR}'"
   ]
  },
  {
   "cell_type": "code",
   "execution_count": null,
   "metadata": {
    "colab": {},
    "colab_type": "code",
    "id": "xPYewi8jsq_B"
   },
   "outputs": [],
   "source": [
    "# Finding DAIN Frames, upscaling and cropping to match original\n",
    "import numpy as np\n",
    "if(RESIZE_HOTFIX==True):\n",
    "  images = []\n",
    "  for filename in os.listdir(f'{FRAME_OUTPUT_DIR}'):\n",
    "    img = cv2.imread(os.path.join(f'{FRAME_OUTPUT_DIR}',filename))\n",
    "    part_filename = os.path.splitext(filename)\n",
    "    if(part_filename[0].endswith('0')==False):\n",
    "      dimension = (img.shape[1]+2, img.shape[0]+2)\n",
    "      resized = cv2.resize(img, dimension, interpolation=cv2.INTER_LANCZOS4)\n",
    "      crop = resized[1:(dimension[1]-1), 1:(dimension[0]-1)]\n",
    "      ns = str(f'{FRAME_OUTPUT_DIR}/')+part_filename[0]+\".png\"\n",
    "      print(ns)\n",
    "      cv2.imwrite(ns, crop)"
   ]
  },
  {
   "cell_type": "code",
   "execution_count": null,
   "metadata": {},
   "outputs": [],
   "source": [
    "!pip install tqdm"
   ]
  },
  {
   "cell_type": "code",
   "execution_count": null,
   "metadata": {},
   "outputs": [],
   "source": [
    "from tqdm.notebook import tqdm"
   ]
  },
  {
   "cell_type": "code",
   "execution_count": null,
   "metadata": {},
   "outputs": [],
   "source": [
    "def img2video(read_path,save_path):\n",
    "    print(read_path,save_path)\n",
    "    files = []\n",
    "    for r, _, f in os.walk(read_path):\n",
    "        for file in f:\n",
    "            if '.png' in file:\n",
    "                files.append([os.path.join(r, file),file.replace(\".png\",\"\")])\n",
    "    print(\"\")\n",
    "    files.sort(key=lambda x: int(x[1]))\n",
    "    img = cv2.imread(files[0][0])\n",
    "    height, width, _ = img.shape\n",
    "    size = (width,height)\n",
    "    print(\"VidSize: \",str(size))\n",
    "    print(\"\")\n",
    "    #-----------------------------------------------\n",
    "    out = cv2.VideoWriter(save_path.replace(\".mp4\",\"\")+\"_60fps.mp4\",cv2.VideoWriter_fourcc(*'mp4v'), 60, size)\n",
    "\n",
    "    for file in tqdm(range(len(files))):\n",
    "        path = files[file][0]\n",
    "        img = cv2.imread(path)\n",
    "        out.write(img)\n",
    "    out.release()\n",
    "    "
   ]
  },
  {
   "cell_type": "code",
   "execution_count": null,
   "metadata": {},
   "outputs": [],
   "source": [
    "!ls"
   ]
  },
  {
   "cell_type": "code",
   "execution_count": null,
   "metadata": {},
   "outputs": [],
   "source": [
    "img2video(FRAME_OUTPUT_DIR,'../'+str(OUTPUT_FILE_PATH))"
   ]
  },
  {
   "cell_type": "code",
   "execution_count": null,
   "metadata": {},
   "outputs": [],
   "source": [
    "%cd .."
   ]
  },
  {
   "cell_type": "code",
   "execution_count": null,
   "metadata": {},
   "outputs": [],
   "source": []
  }
 ],
 "metadata": {
  "accelerator": "GPU",
  "colab": {
   "collapsed_sections": [],
   "name": "Colab_DAIN.ipynb",
   "private_outputs": true,
   "provenance": [],
   "toc_visible": true
  },
  "kernelspec": {
   "display_name": "Python 3",
   "language": "python",
   "name": "python3"
  },
  "language_info": {
   "codemirror_mode": {
    "name": "ipython",
    "version": 3
   },
   "file_extension": ".py",
   "mimetype": "text/x-python",
   "name": "python",
   "nbconvert_exporter": "python",
   "pygments_lexer": "ipython3",
   "version": "3.6.8"
  }
 },
 "nbformat": 4,
 "nbformat_minor": 4
}
