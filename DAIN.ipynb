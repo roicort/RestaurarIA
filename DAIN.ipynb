{
 "cells": [
  {
   "cell_type": "markdown",
   "metadata": {
    "colab_type": "text",
    "id": "1pIo4r_Y8cMo"
   },
   "source": [
    "# DAIN Colab"
   ]
  },
  {
   "cell_type": "markdown",
   "metadata": {
    "colab_type": "text",
    "id": "iGPHW5SOpPe3"
   },
   "source": [
    "*DAIN Colab, v1.4.0*\n",
    "\n",
    "Based on the [original Colab file](https://github.com/baowenbo/DAIN/issues/44) by btahir. \n",
    "\n",
    "Enhancements by [Styler00Dollar](https://github.com/styler00dollar) aka \"sudo rm -rf / --no-preserve-root#8353\" on discord and [Alpha](https://github.com/AlphaGit), (Alpha#6137 on Discord). Please do not run this command in your linux terminal. It's rather meant as a joke.\n",
    "\n",
    "[Styler00Dollar's fork](https://github.com/styler00dollar/DAIN) / [Alpha's fork](https://github.com/AlphaGit/DAIN)\n",
    "\n",
    "\n",
    "Stuff that should be improved:\n",
    "- Alpha channel will be removed automatically and won't be added back. Anything related to alpha will be converted to black.\n",
    "- Adding configuration to select speed\n",
    "- Detect scenes to avoid interpolating scene-changes\n",
    "- Auto-resume\n",
    "- Copy `start_frame` - `end_frame` audio from original input to final output\n"
   ]
  },
  {
   "cell_type": "code",
   "execution_count": 4,
   "metadata": {
    "colab": {},
    "colab_type": "code",
    "id": "-mRVRXIGPk9I"
   },
   "outputs": [
    {
     "name": "stdout",
     "output_type": "stream",
     "text": [
      "Cloning into 'DAIN'...\n",
      "remote: Enumerating objects: 142, done.\u001b[K\n",
      "remote: Counting objects: 100% (142/142), done.\u001b[K\n",
      "remote: Compressing objects: 100% (93/93), done.\u001b[K\n",
      "remote: Total 142 (delta 42), reused 107 (delta 35), pack-reused 0\u001b[K\n",
      "Receiving objects: 100% (142/142), 97.54 KiB | 1.52 MiB/s, done.\n",
      "Resolving deltas: 100% (42/42), done.\n"
     ]
    }
   ],
   "source": [
    "# Clone DAIN sources\n",
    "# TODO Bring back original repo\n",
    "#!git clone https://github.com/baowenbo/DAIN /content/DAIN\n",
    "!git clone -b colab-compatibility --depth 1 https://github.com/AlphaGit/DAIN"
   ]
  },
  {
   "cell_type": "code",
   "execution_count": 1,
   "metadata": {},
   "outputs": [
    {
     "name": "stdout",
     "output_type": "stream",
     "text": [
      "rm: cannot remove 'DAIN/frames/input_frames': No such file or directory\n"
     ]
    }
   ],
   "source": [
    "! rm -R DAIN/frames"
   ]
  },
  {
   "cell_type": "code",
   "execution_count": 2,
   "metadata": {},
   "outputs": [],
   "source": [
    "! mkdir DAIN/frames\n",
    "! mkdir DAIN/frames/input_frames && mkdir DAIN/frames/output_frames"
   ]
  },
  {
   "cell_type": "code",
   "execution_count": 3,
   "metadata": {
    "colab": {},
    "colab_type": "code",
    "id": "enKoi0TR2fOD"
   },
   "outputs": [],
   "source": [
    "################# Required Configurations ############################\n",
    "\n",
    "#@markdown # Required Configuration\n",
    "#@markdown Use the values in here to configure what you'd like DAIN to do.\n",
    "\n",
    "#@markdown ## Input file\n",
    "#@markdown Path (relative to the root of your Google Drive) to the input file. For instance, if you save your `example.mkv` file in your Google Drive, inside a `videos` folder, the path would be: `videos/example.mkv`. Currenly videos and gifs are supported.\n",
    "INPUT_FILEPATH = \"video/input.mp4\" #@param{type:\"string\"}\n",
    "\n",
    "#@markdown ## Output file\n",
    "#@markdown Output file path: path (relative to the root of your Google Drive) for the output file. It will also determine the filetype in the destination. `.mp4` is recommended for video input, `.gif` for gif inputs.\n",
    "OUTPUT_FILE_PATH = \"video/output.mp4\" #@param{type:\"string\"}\n",
    "\n",
    "################# Optional configurations ############################\n",
    "\n",
    "#@markdown # Optional Configuration\n",
    "#@markdown Parameters below can be left with their defaults, but feel free to adapt them to your needs.\n",
    "\n",
    "#@markdown ## Target FPS\n",
    "#@markdown  how many frames per second should the result have. This will determine how many intermediate images are interpolated.\n",
    "TARGET_FPS = 60 #@param{type:\"number\"}\n",
    "\n",
    "#@markdown ## Frame input directory\n",
    "#@markdown A path, relative to your GDrive root, where you already have the list of frames in the format 00001.png, 00002.png, etc.\n",
    "FRAME_INPUT_DIR = 'frames/input_frames' #@param{type:\"string\"}\n",
    "\n",
    "#@markdown ## Frame output directory\n",
    "#@markdown A path, relative to your GDrive root, where you want the generated frame.\n",
    "FRAME_OUTPUT_DIR = 'frames/output_frames' #@param{type:\"string\"}\n",
    "\n",
    "#@markdown ## Seamless playback\n",
    "#@markdown Creates a seamless loop by using the first frame as last one as well. Set this to True this if loop is intended.\n",
    "SEAMLESS = False #@param{type:\"boolean\"}\n",
    "\n",
    "#@markdown ## Resize hotfix\n",
    "#@markdown DAIN frames are a bit \"shifted / smaller\" compared to original input frames. This can partly be mitigated with resizing DAIN frames to the resolution +2px and cropping the result to the original resoultion with the starting point (1,1). Without this fix, DAIN tends to make \"vibrating\" output and it is pretty noticible with static elements like text.\n",
    "#@markdown\n",
    "#@markdown This hotfix tries to make such effects less visible for a smoother video playback. I do not know what DAINAPP uses as a fix for this problem, but the original does show such behaviour with the default test images. More advanced users can change the interpolation method. The methods cv2.INTER_CUBIC and cv2.INTER_LANCZOS4 are recommended. The current default value is cv2.INTER_LANCZOS4.\n",
    "RESIZE_HOTFIX = True #@param{type:\"boolean\"}\n",
    "\n",
    "#@markdown ## Auto-remove PNG directory\n",
    "#@markdown Auto-delete output PNG dir after ffmpeg video creation. Set this to `False` if you want to keep the PNG files.\n",
    "AUTO_REMOVE = True #@param{type:\"boolean\"}"
   ]
  },
  {
   "cell_type": "code",
   "execution_count": 4,
   "metadata": {
    "colab": {},
    "colab_type": "code",
    "id": "irzjv1x4e3S4"
   },
   "outputs": [
    {
     "name": "stdout",
     "output_type": "stream",
     "text": [
      "name, driver_version, memory.total [MiB]\n",
      "Quadro P5000, 450.36.06, 16278 MiB\n"
     ]
    }
   ],
   "source": [
    "# Check your current GPU\n",
    "# If you are lucky, you get 16GB VRAM. If you are not lucky, you get less. VRAM is important. The more VRAM, the higher the maximum resolution will go.\n",
    "\n",
    "# 16GB: Can handle 720p. 1080p will procude an out-of-memory error. \n",
    "# 8GB: Can handle 480p. 720p will produce an out-of-memory error.\n",
    "\n",
    "!nvidia-smi --query-gpu=gpu_name,driver_version,memory.total --format=csv"
   ]
  },
  {
   "cell_type": "markdown",
   "metadata": {
    "colab_type": "text",
    "id": "UYHTTP91oMvh"
   },
   "source": [
    "# Install dependencies.\n",
    "\n",
    "This next step may take somewhere between 15-20 minutes. Run this only once at startup.\n",
    "\n",
    "Look for the \"Finished installing dependencies\"  message."
   ]
  },
  {
   "cell_type": "code",
   "execution_count": 26,
   "metadata": {},
   "outputs": [
    {
     "name": "stdout",
     "output_type": "stream",
     "text": [
      "Get:1 http://security.ubuntu.com/ubuntu bionic-security InRelease [88.7 kB]\n",
      "Get:2 http://ppa.launchpad.net/deadsnakes/ppa/ubuntu bionic InRelease [15.9 kB]\n",
      "Get:3 http://archive.ubuntu.com/ubuntu bionic InRelease [242 kB]               \n",
      "Get:4 http://security.ubuntu.com/ubuntu bionic-security/restricted amd64 Packages [116 kB]\n",
      "Get:5 http://security.ubuntu.com/ubuntu bionic-security/main amd64 Packages [1089 kB]\n",
      "Get:6 http://ppa.launchpad.net/deadsnakes/ppa/ubuntu bionic/main amd64 Packages [35.1 kB]\n",
      "Get:7 http://security.ubuntu.com/ubuntu bionic-security/multiverse amd64 Packages [10.1 kB]\n",
      "Get:8 http://security.ubuntu.com/ubuntu bionic-security/universe amd64 Packages [900 kB]\n",
      "Get:9 http://archive.ubuntu.com/ubuntu bionic-updates InRelease [88.7 kB]      \n",
      "Get:10 http://archive.ubuntu.com/ubuntu bionic-backports InRelease [74.6 kB]\n",
      "Get:11 http://archive.ubuntu.com/ubuntu bionic/multiverse amd64 Packages [186 kB]\n",
      "Get:12 http://archive.ubuntu.com/ubuntu bionic/restricted amd64 Packages [13.5 kB]\n",
      "Get:13 http://archive.ubuntu.com/ubuntu bionic/universe amd64 Packages [11.3 MB]\n",
      "Get:14 http://archive.ubuntu.com/ubuntu bionic/main amd64 Packages [1344 kB]\n",
      "Get:15 http://archive.ubuntu.com/ubuntu bionic-updates/universe amd64 Packages [1426 kB]\n",
      "Get:16 http://archive.ubuntu.com/ubuntu bionic-updates/main amd64 Packages [1384 kB]\n",
      "Get:17 http://archive.ubuntu.com/ubuntu bionic-updates/restricted amd64 Packages [132 kB]\n",
      "Get:18 http://archive.ubuntu.com/ubuntu bionic-updates/multiverse amd64 Packages [27.7 kB]\n",
      "Get:19 http://archive.ubuntu.com/ubuntu bionic-backports/universe amd64 Packages [8432 B]\n",
      "Get:20 http://archive.ubuntu.com/ubuntu bionic-backports/main amd64 Packages [8286 B]\n",
      "Fetched 18.5 MB in 5s (3394 kB/s)                           \n",
      "Reading package lists... Done\n"
     ]
    }
   ],
   "source": [
    "!apt-get update"
   ]
  },
  {
   "cell_type": "code",
   "execution_count": 31,
   "metadata": {
    "collapsed": true,
    "jupyter": {
     "outputs_hidden": true
    }
   },
   "outputs": [
    {
     "name": "stdout",
     "output_type": "stream",
     "text": [
      "Reading package lists... Done\n",
      "Building dependency tree       \n",
      "Reading state information... Done\n",
      "The following additional packages will be installed:\n",
      "  bc fontconfig fontconfig-config fonts-dejavu-core fonts-droid-fallback\n",
      "  fonts-noto-mono ghostscript gsfonts hicolor-icon-theme imagemagick-6-common\n",
      "  imagemagick-6-doc imagemagick-6.q16 javascript-common libasyncns0\n",
      "  libavahi-client3 libavahi-common-data libavahi-common3 libbsd0 libcairo2\n",
      "  libcap2 libcups2 libcupsfilters1 libcupsimage2 libdatrie1 libdjvulibre-text\n",
      "  libdjvulibre21 libdrm-amdgpu1 libdrm-common libdrm-intel1 libdrm-nouveau2\n",
      "  libdrm-radeon1 libdrm2 libedit2 libelf1 libfftw3-double3 libflac8\n",
      "  libfontconfig1 libfontenc1 libfreetype6 libgl1 libgl1-mesa-dri libglapi-mesa\n",
      "  libglvnd0 libglx-mesa0 libglx0 libgraphite2-3 libgs9 libgs9-common\n",
      "  libharfbuzz0b libice6 libidn11 libijs-0.35 libilmbase12 libjbig0\n",
      "  libjbig2dec0 libjpeg-turbo8 libjpeg8 libjs-bootstrap libjs-jquery\n",
      "  libjs-jquery-easing libjs-jquery-fancybox libjs-jquery-mousewheel liblcms2-2\n",
      "  libllvm10 liblqr-1-0 libltdl7 libmagickcore-6.q16-3\n",
      "  libmagickcore-6.q16-3-extra libmagickwand-6.q16-3 libnetpbm10 libogg0\n",
      "  libopenexr22 libpango-1.0-0 libpangocairo-1.0-0 libpangoft2-1.0-0\n",
      "  libpaper-utils libpaper1 libpciaccess0 libpixman-1-0 libpng16-16 libpulse0\n",
      "  libpulsedsp libsensors4 libsm6 libsndfile1 libthai-data libthai0 libtiff5\n",
      "  libvorbis0a libvorbisenc2 libwmf0.2-7 libwrap0 libx11-6 libx11-data\n",
      "  libx11-xcb1 libxau6 libxaw7 libxcb-dri2-0 libxcb-dri3-0 libxcb-glx0\n",
      "  libxcb-present0 libxcb-render0 libxcb-shape0 libxcb-shm0 libxcb-sync1\n",
      "  libxcb1 libxcomposite1 libxdamage1 libxdmcp6 libxext6 libxfixes3 libxft2\n",
      "  libxi6 libxinerama1 libxmu6 libxmuu1 libxpm4 libxrandr2 libxrender1\n",
      "  libxshmfence1 libxt6 libxtst6 libxv1 libxxf86dga1 libxxf86vm1\n",
      "  multiarch-support netpbm poppler-data pulseaudio-utils ucf wslu x11-common\n",
      "  x11-utils\n",
      "Suggested packages:\n",
      "  fonts-noto ghostscript-x autotrace cups-bsd | lpr | lprng enscript ffmpeg\n",
      "  gimp gnuplot grads graphviz groff-base hp2xx html2ps libwmf-bin mplayer\n",
      "  povray radiance sane-utils texlive-base-bin transfig ufraw-batch xdg-utils\n",
      "  apache2 | lighttpd | httpd cups-common libfftw3-bin libfftw3-dev\n",
      "  liblcms2-utils inkscape libjxr-tools pciutils pulseaudio lm-sensors\n",
      "  libwmf0.2-7-gtk poppler-utils fonts-japanese-mincho | fonts-ipafont-mincho\n",
      "  fonts-japanese-gothic | fonts-ipafont-gothic fonts-arphic-ukai\n",
      "  fonts-arphic-uming fonts-nanum avahi-daemon mesa-utils\n",
      "The following NEW packages will be installed:\n",
      "  bc fontconfig fontconfig-config fonts-dejavu-core fonts-droid-fallback\n",
      "  fonts-noto-mono ghostscript gsfonts hicolor-icon-theme imagemagick\n",
      "  imagemagick-6-common imagemagick-6-doc imagemagick-6.q16 imagemagick-doc\n",
      "  javascript-common libasyncns0 libavahi-client3 libavahi-common-data\n",
      "  libavahi-common3 libbsd0 libcairo2 libcap2 libcups2 libcupsfilters1\n",
      "  libcupsimage2 libdatrie1 libdjvulibre-text libdjvulibre21 libdrm-amdgpu1\n",
      "  libdrm-common libdrm-intel1 libdrm-nouveau2 libdrm-radeon1 libdrm2 libedit2\n",
      "  libelf1 libfftw3-double3 libflac8 libfontconfig1 libfontenc1 libfreetype6\n",
      "  libgl1 libgl1-mesa-dri libgl1-mesa-glx libglapi-mesa libglvnd0 libglx-mesa0\n",
      "  libglx0 libgraphite2-3 libgs9 libgs9-common libharfbuzz0b libice6 libidn11\n",
      "  libijs-0.35 libilmbase12 libjbig0 libjbig2dec0 libjpeg-turbo8 libjpeg8\n",
      "  libjs-bootstrap libjs-jquery libjs-jquery-easing libjs-jquery-fancybox\n",
      "  libjs-jquery-mousewheel liblcms2-2 libllvm10 liblqr-1-0 libltdl7\n",
      "  libmagickcore-6.q16-3 libmagickcore-6.q16-3-extra libmagickwand-6.q16-3\n",
      "  libnetpbm10 libogg0 libopenexr22 libpango-1.0-0 libpangocairo-1.0-0\n",
      "  libpangoft2-1.0-0 libpaper-utils libpaper1 libpciaccess0 libpixman-1-0\n",
      "  libpng16-16 libpulse0 libpulsedsp libsensors4 libsm6 libsndfile1\n",
      "  libthai-data libthai0 libtiff5 libvorbis0a libvorbisenc2 libwmf0.2-7\n",
      "  libwrap0 libx11-6 libx11-data libx11-xcb1 libxau6 libxaw7 libxcb-dri2-0\n",
      "  libxcb-dri3-0 libxcb-glx0 libxcb-present0 libxcb-render0 libxcb-shape0\n",
      "  libxcb-shm0 libxcb-sync1 libxcb1 libxcomposite1 libxdamage1 libxdmcp6\n",
      "  libxext6 libxfixes3 libxft2 libxi6 libxinerama1 libxmu6 libxmuu1 libxpm4\n",
      "  libxrandr2 libxrender1 libxshmfence1 libxt6 libxtst6 libxv1 libxxf86dga1\n",
      "  libxxf86vm1 multiarch-support netpbm poppler-data pulseaudio-utils ucf wslu\n",
      "  x11-common x11-utils\n",
      "0 upgraded, 136 newly installed, 0 to remove and 106 not upgraded.\n",
      "Need to get 60.5 MB of archives.\n",
      "After this operation, 481 MB of additional disk space will be used.\n",
      "Do you want to continue? [Y/n] ^C\n"
     ]
    }
   ],
   "source": [
    "!apt-get install imagemagick imagemagick-doc libgl1-mesa-glx ffmpeg"
   ]
  },
  {
   "cell_type": "code",
   "execution_count": 7,
   "metadata": {},
   "outputs": [
    {
     "name": "stdout",
     "output_type": "stream",
     "text": [
      "Collecting pip\n",
      "\u001b[?25l  Downloading https://files.pythonhosted.org/packages/4e/5f/528232275f6509b1fff703c9280e58951a81abe24640905de621c9f81839/pip-20.2.3-py2.py3-none-any.whl (1.5MB)\n",
      "\u001b[K     |████████████████████████████████| 1.5MB 13.9MB/s eta 0:00:01\n",
      "\u001b[?25hInstalling collected packages: pip\n",
      "  Found existing installation: pip 19.2.1\n",
      "    Uninstalling pip-19.2.1:\n",
      "      Successfully uninstalled pip-19.2.1\n",
      "Successfully installed pip-20.2.3\n"
     ]
    }
   ],
   "source": [
    "!pip install --upgrade pip"
   ]
  },
  {
   "cell_type": "code",
   "execution_count": 8,
   "metadata": {
    "colab": {},
    "colab_type": "code",
    "id": "XunYRBtyPZf_"
   },
   "outputs": [
    {
     "name": "stdout",
     "output_type": "stream",
     "text": [
      "Looking in links: https://download.pytorch.org/whl/torch_stable.html\n",
      "Requirement already satisfied: torch==1.4.0+cu100 in /usr/local/lib/python3.6/dist-packages (1.4.0+cu100)\n",
      "Requirement already satisfied: torchvision==0.5.0+cu100 in /usr/local/lib/python3.6/dist-packages (0.5.0+cu100)\n",
      "Requirement already satisfied: six in /usr/local/lib/python3.6/dist-packages (from torchvision==0.5.0+cu100) (1.12.0)\n",
      "Requirement already satisfied: pillow>=4.1.1 in /usr/local/lib/python3.6/dist-packages (from torchvision==0.5.0+cu100) (6.1.0)\n",
      "Requirement already satisfied: numpy in /usr/local/lib/python3.6/dist-packages (from torchvision==0.5.0+cu100) (1.17.0)\n",
      "Requirement already satisfied: scipy==1.1.0 in /usr/local/lib/python3.6/dist-packages (1.1.0)\n",
      "Requirement already satisfied: numpy>=1.8.2 in /usr/local/lib/python3.6/dist-packages (from scipy==1.1.0) (1.17.0)\n"
     ]
    }
   ],
   "source": [
    "# Install known used versions of PyTorch and SciPy\n",
    "!pip install torch==1.4.0+cu100 torchvision==0.5.0+cu100 -f https://download.pytorch.org/whl/torch_stable.html\n",
    "!pip install scipy==1.1.0"
   ]
  },
  {
   "cell_type": "code",
   "execution_count": 24,
   "metadata": {},
   "outputs": [
    {
     "name": "stdout",
     "output_type": "stream",
     "text": [
      "Collecting opencv-python\n",
      "  Downloading opencv_python-4.4.0.42-cp36-cp36m-manylinux2014_x86_64.whl (49.4 MB)\n",
      "\u001b[K     |████████████████████████████████| 49.4 MB 425 kB/s  eta 0:00:01\n",
      "\u001b[?25hRequirement already satisfied: numpy>=1.13.3 in /usr/local/lib/python3.6/dist-packages (from opencv-python) (1.17.0)\n",
      "Installing collected packages: opencv-python\n",
      "Successfully installed opencv-python-4.4.0.42\n"
     ]
    }
   ],
   "source": [
    "!pip install opencv-python"
   ]
  },
  {
   "cell_type": "code",
   "execution_count": 17,
   "metadata": {},
   "outputs": [
    {
     "name": "stdout",
     "output_type": "stream",
     "text": [
      "Collecting imageio\n",
      "  Downloading imageio-2.9.0-py3-none-any.whl (3.3 MB)\n",
      "\u001b[K     |████████████████████████████████| 3.3 MB 15.5 MB/s eta 0:00:01\n",
      "\u001b[?25hRequirement already satisfied: numpy in /usr/local/lib/python3.6/dist-packages (from imageio) (1.17.0)\n",
      "Requirement already satisfied: pillow in /usr/local/lib/python3.6/dist-packages (from imageio) (6.1.0)\n",
      "Installing collected packages: imageio\n",
      "Successfully installed imageio-2.9.0\n"
     ]
    }
   ],
   "source": [
    "!pip install imageio"
   ]
  },
  {
   "cell_type": "code",
   "execution_count": 6,
   "metadata": {},
   "outputs": [],
   "source": [
    "import os\n",
    "import cv2"
   ]
  },
  {
   "cell_type": "code",
   "execution_count": 12,
   "metadata": {},
   "outputs": [
    {
     "name": "stdout",
     "output_type": "stream",
     "text": [
      "/notebooks\n"
     ]
    }
   ],
   "source": [
    "%cd notebooks"
   ]
  },
  {
   "cell_type": "code",
   "execution_count": 13,
   "metadata": {
    "colab": {},
    "colab_type": "code",
    "collapsed": true,
    "id": "e5AHGetTRacZ",
    "jupyter": {
     "outputs_hidden": true
    }
   },
   "outputs": [
    {
     "name": "stdout",
     "output_type": "stream",
     "text": [
      "/notebooks/DAIN/my_package\n",
      "Need pytorch>=1.0.0\n",
      "./build.sh: line 4: activate: No such file or directory\n",
      "running install\n",
      "running bdist_egg\n",
      "running egg_info\n",
      "creating mindepthflowprojection_cuda.egg-info\n",
      "writing mindepthflowprojection_cuda.egg-info/PKG-INFO\n",
      "writing dependency_links to mindepthflowprojection_cuda.egg-info/dependency_links.txt\n",
      "writing top-level names to mindepthflowprojection_cuda.egg-info/top_level.txt\n",
      "writing manifest file 'mindepthflowprojection_cuda.egg-info/SOURCES.txt'\n",
      "reading manifest file 'mindepthflowprojection_cuda.egg-info/SOURCES.txt'\n",
      "writing manifest file 'mindepthflowprojection_cuda.egg-info/SOURCES.txt'\n",
      "installing library code to build/bdist.linux-x86_64/egg\n",
      "running install_lib\n",
      "running build_ext\n",
      "building 'mindepthflowprojection_cuda' extension\n",
      "creating build\n",
      "creating build/temp.linux-x86_64-3.6\n",
      "x86_64-linux-gnu-gcc -pthread -DNDEBUG -g -fwrapv -O2 -Wall -g -fstack-protector-strong -Wformat -Werror=format-security -Wdate-time -D_FORTIFY_SOURCE=2 -fPIC -I/usr/local/lib/python3.6/dist-packages/torch/include -I/usr/local/lib/python3.6/dist-packages/torch/include/torch/csrc/api/include -I/usr/local/lib/python3.6/dist-packages/torch/include/TH -I/usr/local/lib/python3.6/dist-packages/torch/include/THC -I/usr/local/cuda/include -I/usr/include/python3.6m -c mindepthflowprojection_cuda.cc -o build/temp.linux-x86_64-3.6/mindepthflowprojection_cuda.o -std=c++11 -w -DTORCH_API_INCLUDE_EXTENSION_H -DTORCH_EXTENSION_NAME=mindepthflowprojection_cuda -D_GLIBCXX_USE_CXX11_ABI=0\n",
      "/usr/local/cuda/bin/nvcc -I/usr/local/lib/python3.6/dist-packages/torch/include -I/usr/local/lib/python3.6/dist-packages/torch/include/torch/csrc/api/include -I/usr/local/lib/python3.6/dist-packages/torch/include/TH -I/usr/local/lib/python3.6/dist-packages/torch/include/THC -I/usr/local/cuda/include -I/usr/include/python3.6m -c mindepthflowprojection_cuda_kernel.cu -o build/temp.linux-x86_64-3.6/mindepthflowprojection_cuda_kernel.o -D__CUDA_NO_HALF_OPERATORS__ -D__CUDA_NO_HALF_CONVERSIONS__ -D__CUDA_NO_HALF2_OPERATORS__ --expt-relaxed-constexpr --compiler-options '-fPIC' -gencode arch=compute_37,code=sm_37 -gencode arch=compute_50,code=sm_50 -gencode arch=compute_52,code=sm_52 -gencode arch=compute_60,code=sm_60 -gencode arch=compute_61,code=sm_61 -gencode arch=compute_75,code=sm_75 -w -DTORCH_API_INCLUDE_EXTENSION_H -DTORCH_EXTENSION_NAME=mindepthflowprojection_cuda -D_GLIBCXX_USE_CXX11_ABI=0 -std=c++11\n",
      "creating build/lib.linux-x86_64-3.6\n",
      "x86_64-linux-gnu-g++ -pthread -shared -Wl,-O1 -Wl,-Bsymbolic-functions -Wl,-Bsymbolic-functions -Wl,-z,relro -Wl,-Bsymbolic-functions -Wl,-z,relro -g -fstack-protector-strong -Wformat -Werror=format-security -Wdate-time -D_FORTIFY_SOURCE=2 build/temp.linux-x86_64-3.6/mindepthflowprojection_cuda.o build/temp.linux-x86_64-3.6/mindepthflowprojection_cuda_kernel.o -L/usr/local/cuda/lib64 -lcudart -o build/lib.linux-x86_64-3.6/mindepthflowprojection_cuda.cpython-36m-x86_64-linux-gnu.so\n",
      "creating build/bdist.linux-x86_64\n",
      "creating build/bdist.linux-x86_64/egg\n",
      "copying build/lib.linux-x86_64-3.6/mindepthflowprojection_cuda.cpython-36m-x86_64-linux-gnu.so -> build/bdist.linux-x86_64/egg\n",
      "creating stub loader for mindepthflowprojection_cuda.cpython-36m-x86_64-linux-gnu.so\n",
      "byte-compiling build/bdist.linux-x86_64/egg/mindepthflowprojection_cuda.py to mindepthflowprojection_cuda.cpython-36.pyc\n",
      "creating build/bdist.linux-x86_64/egg/EGG-INFO\n",
      "copying mindepthflowprojection_cuda.egg-info/PKG-INFO -> build/bdist.linux-x86_64/egg/EGG-INFO\n",
      "copying mindepthflowprojection_cuda.egg-info/SOURCES.txt -> build/bdist.linux-x86_64/egg/EGG-INFO\n",
      "copying mindepthflowprojection_cuda.egg-info/dependency_links.txt -> build/bdist.linux-x86_64/egg/EGG-INFO\n",
      "copying mindepthflowprojection_cuda.egg-info/top_level.txt -> build/bdist.linux-x86_64/egg/EGG-INFO\n",
      "writing build/bdist.linux-x86_64/egg/EGG-INFO/native_libs.txt\n",
      "zip_safe flag not set; analyzing archive contents...\n",
      "__pycache__.mindepthflowprojection_cuda.cpython-36: module references __file__\n",
      "creating dist\n",
      "creating 'dist/mindepthflowprojection_cuda-0.0.0-py3.6-linux-x86_64.egg' and adding 'build/bdist.linux-x86_64/egg' to it\n",
      "removing 'build/bdist.linux-x86_64/egg' (and everything under it)\n",
      "Processing mindepthflowprojection_cuda-0.0.0-py3.6-linux-x86_64.egg\n",
      "creating /usr/local/lib/python3.6/dist-packages/mindepthflowprojection_cuda-0.0.0-py3.6-linux-x86_64.egg\n",
      "Extracting mindepthflowprojection_cuda-0.0.0-py3.6-linux-x86_64.egg to /usr/local/lib/python3.6/dist-packages\n",
      "Adding mindepthflowprojection-cuda 0.0.0 to easy-install.pth file\n",
      "\n",
      "Installed /usr/local/lib/python3.6/dist-packages/mindepthflowprojection_cuda-0.0.0-py3.6-linux-x86_64.egg\n",
      "Processing dependencies for mindepthflowprojection-cuda==0.0.0\n",
      "Finished processing dependencies for mindepthflowprojection-cuda==0.0.0\n",
      "running install\n",
      "running bdist_egg\n",
      "running egg_info\n",
      "creating flowprojection_cuda.egg-info\n",
      "writing flowprojection_cuda.egg-info/PKG-INFO\n",
      "writing dependency_links to flowprojection_cuda.egg-info/dependency_links.txt\n",
      "writing top-level names to flowprojection_cuda.egg-info/top_level.txt\n",
      "writing manifest file 'flowprojection_cuda.egg-info/SOURCES.txt'\n",
      "reading manifest file 'flowprojection_cuda.egg-info/SOURCES.txt'\n",
      "writing manifest file 'flowprojection_cuda.egg-info/SOURCES.txt'\n",
      "installing library code to build/bdist.linux-x86_64/egg\n",
      "running install_lib\n",
      "running build_ext\n",
      "building 'flowprojection_cuda' extension\n",
      "creating build\n",
      "creating build/temp.linux-x86_64-3.6\n",
      "x86_64-linux-gnu-gcc -pthread -DNDEBUG -g -fwrapv -O2 -Wall -g -fstack-protector-strong -Wformat -Werror=format-security -Wdate-time -D_FORTIFY_SOURCE=2 -fPIC -I/usr/local/lib/python3.6/dist-packages/torch/include -I/usr/local/lib/python3.6/dist-packages/torch/include/torch/csrc/api/include -I/usr/local/lib/python3.6/dist-packages/torch/include/TH -I/usr/local/lib/python3.6/dist-packages/torch/include/THC -I/usr/local/cuda/include -I/usr/include/python3.6m -c flowprojection_cuda.cc -o build/temp.linux-x86_64-3.6/flowprojection_cuda.o -std=c++11 -w -DTORCH_API_INCLUDE_EXTENSION_H -DTORCH_EXTENSION_NAME=flowprojection_cuda -D_GLIBCXX_USE_CXX11_ABI=0\n",
      "/usr/local/cuda/bin/nvcc -I/usr/local/lib/python3.6/dist-packages/torch/include -I/usr/local/lib/python3.6/dist-packages/torch/include/torch/csrc/api/include -I/usr/local/lib/python3.6/dist-packages/torch/include/TH -I/usr/local/lib/python3.6/dist-packages/torch/include/THC -I/usr/local/cuda/include -I/usr/include/python3.6m -c flowprojection_cuda_kernel.cu -o build/temp.linux-x86_64-3.6/flowprojection_cuda_kernel.o -D__CUDA_NO_HALF_OPERATORS__ -D__CUDA_NO_HALF_CONVERSIONS__ -D__CUDA_NO_HALF2_OPERATORS__ --expt-relaxed-constexpr --compiler-options '-fPIC' -gencode arch=compute_37,code=sm_37 -gencode arch=compute_50,code=sm_50 -gencode arch=compute_52,code=sm_52 -gencode arch=compute_60,code=sm_60 -gencode arch=compute_61,code=sm_61 -gencode arch=compute_75,code=sm_75 -w -DTORCH_API_INCLUDE_EXTENSION_H -DTORCH_EXTENSION_NAME=flowprojection_cuda -D_GLIBCXX_USE_CXX11_ABI=0 -std=c++11\n",
      "creating build/lib.linux-x86_64-3.6\n",
      "x86_64-linux-gnu-g++ -pthread -shared -Wl,-O1 -Wl,-Bsymbolic-functions -Wl,-Bsymbolic-functions -Wl,-z,relro -Wl,-Bsymbolic-functions -Wl,-z,relro -g -fstack-protector-strong -Wformat -Werror=format-security -Wdate-time -D_FORTIFY_SOURCE=2 build/temp.linux-x86_64-3.6/flowprojection_cuda.o build/temp.linux-x86_64-3.6/flowprojection_cuda_kernel.o -L/usr/local/cuda/lib64 -lcudart -o build/lib.linux-x86_64-3.6/flowprojection_cuda.cpython-36m-x86_64-linux-gnu.so\n",
      "creating build/bdist.linux-x86_64\n",
      "creating build/bdist.linux-x86_64/egg\n",
      "copying build/lib.linux-x86_64-3.6/flowprojection_cuda.cpython-36m-x86_64-linux-gnu.so -> build/bdist.linux-x86_64/egg\n",
      "creating stub loader for flowprojection_cuda.cpython-36m-x86_64-linux-gnu.so\n",
      "byte-compiling build/bdist.linux-x86_64/egg/flowprojection_cuda.py to flowprojection_cuda.cpython-36.pyc\n",
      "creating build/bdist.linux-x86_64/egg/EGG-INFO\n",
      "copying flowprojection_cuda.egg-info/PKG-INFO -> build/bdist.linux-x86_64/egg/EGG-INFO\n",
      "copying flowprojection_cuda.egg-info/SOURCES.txt -> build/bdist.linux-x86_64/egg/EGG-INFO\n",
      "copying flowprojection_cuda.egg-info/dependency_links.txt -> build/bdist.linux-x86_64/egg/EGG-INFO\n",
      "copying flowprojection_cuda.egg-info/top_level.txt -> build/bdist.linux-x86_64/egg/EGG-INFO\n",
      "writing build/bdist.linux-x86_64/egg/EGG-INFO/native_libs.txt\n",
      "zip_safe flag not set; analyzing archive contents...\n",
      "__pycache__.flowprojection_cuda.cpython-36: module references __file__\n",
      "creating dist\n",
      "creating 'dist/flowprojection_cuda-0.0.0-py3.6-linux-x86_64.egg' and adding 'build/bdist.linux-x86_64/egg' to it\n",
      "removing 'build/bdist.linux-x86_64/egg' (and everything under it)\n",
      "Processing flowprojection_cuda-0.0.0-py3.6-linux-x86_64.egg\n",
      "creating /usr/local/lib/python3.6/dist-packages/flowprojection_cuda-0.0.0-py3.6-linux-x86_64.egg\n",
      "Extracting flowprojection_cuda-0.0.0-py3.6-linux-x86_64.egg to /usr/local/lib/python3.6/dist-packages\n",
      "Adding flowprojection-cuda 0.0.0 to easy-install.pth file\n",
      "\n",
      "Installed /usr/local/lib/python3.6/dist-packages/flowprojection_cuda-0.0.0-py3.6-linux-x86_64.egg\n",
      "Processing dependencies for flowprojection-cuda==0.0.0\n",
      "Finished processing dependencies for flowprojection-cuda==0.0.0\n",
      "running install\n",
      "running bdist_egg\n",
      "running egg_info\n",
      "creating separableconv_cuda.egg-info\n",
      "writing separableconv_cuda.egg-info/PKG-INFO\n",
      "writing dependency_links to separableconv_cuda.egg-info/dependency_links.txt\n",
      "writing top-level names to separableconv_cuda.egg-info/top_level.txt\n",
      "writing manifest file 'separableconv_cuda.egg-info/SOURCES.txt'\n",
      "reading manifest file 'separableconv_cuda.egg-info/SOURCES.txt'\n",
      "writing manifest file 'separableconv_cuda.egg-info/SOURCES.txt'\n",
      "installing library code to build/bdist.linux-x86_64/egg\n",
      "running install_lib\n",
      "running build_ext\n",
      "building 'separableconv_cuda' extension\n",
      "creating build\n",
      "creating build/temp.linux-x86_64-3.6\n",
      "x86_64-linux-gnu-gcc -pthread -DNDEBUG -g -fwrapv -O2 -Wall -g -fstack-protector-strong -Wformat -Werror=format-security -Wdate-time -D_FORTIFY_SOURCE=2 -fPIC -I/usr/local/lib/python3.6/dist-packages/torch/include -I/usr/local/lib/python3.6/dist-packages/torch/include/torch/csrc/api/include -I/usr/local/lib/python3.6/dist-packages/torch/include/TH -I/usr/local/lib/python3.6/dist-packages/torch/include/THC -I/usr/local/cuda/include -I/usr/include/python3.6m -c separableconv_cuda.cc -o build/temp.linux-x86_64-3.6/separableconv_cuda.o -std=c++11 -w -DTORCH_API_INCLUDE_EXTENSION_H -DTORCH_EXTENSION_NAME=separableconv_cuda -D_GLIBCXX_USE_CXX11_ABI=0\n",
      "/usr/local/cuda/bin/nvcc -I/usr/local/lib/python3.6/dist-packages/torch/include -I/usr/local/lib/python3.6/dist-packages/torch/include/torch/csrc/api/include -I/usr/local/lib/python3.6/dist-packages/torch/include/TH -I/usr/local/lib/python3.6/dist-packages/torch/include/THC -I/usr/local/cuda/include -I/usr/include/python3.6m -c separableconv_cuda_kernel.cu -o build/temp.linux-x86_64-3.6/separableconv_cuda_kernel.o -D__CUDA_NO_HALF_OPERATORS__ -D__CUDA_NO_HALF_CONVERSIONS__ -D__CUDA_NO_HALF2_OPERATORS__ --expt-relaxed-constexpr --compiler-options '-fPIC' -gencode arch=compute_37,code=sm_37 -gencode arch=compute_50,code=sm_50 -gencode arch=compute_52,code=sm_52 -gencode arch=compute_60,code=sm_60 -gencode arch=compute_61,code=sm_61 -gencode arch=compute_75,code=sm_75 -w -DTORCH_API_INCLUDE_EXTENSION_H -DTORCH_EXTENSION_NAME=separableconv_cuda -D_GLIBCXX_USE_CXX11_ABI=0 -std=c++11\n",
      "creating build/lib.linux-x86_64-3.6\n",
      "x86_64-linux-gnu-g++ -pthread -shared -Wl,-O1 -Wl,-Bsymbolic-functions -Wl,-Bsymbolic-functions -Wl,-z,relro -Wl,-Bsymbolic-functions -Wl,-z,relro -g -fstack-protector-strong -Wformat -Werror=format-security -Wdate-time -D_FORTIFY_SOURCE=2 build/temp.linux-x86_64-3.6/separableconv_cuda.o build/temp.linux-x86_64-3.6/separableconv_cuda_kernel.o -L/usr/local/cuda/lib64 -lcudart -o build/lib.linux-x86_64-3.6/separableconv_cuda.cpython-36m-x86_64-linux-gnu.so\n",
      "creating build/bdist.linux-x86_64\n",
      "creating build/bdist.linux-x86_64/egg\n",
      "copying build/lib.linux-x86_64-3.6/separableconv_cuda.cpython-36m-x86_64-linux-gnu.so -> build/bdist.linux-x86_64/egg\n",
      "creating stub loader for separableconv_cuda.cpython-36m-x86_64-linux-gnu.so\n",
      "byte-compiling build/bdist.linux-x86_64/egg/separableconv_cuda.py to separableconv_cuda.cpython-36.pyc\n",
      "creating build/bdist.linux-x86_64/egg/EGG-INFO\n",
      "copying separableconv_cuda.egg-info/PKG-INFO -> build/bdist.linux-x86_64/egg/EGG-INFO\n",
      "copying separableconv_cuda.egg-info/SOURCES.txt -> build/bdist.linux-x86_64/egg/EGG-INFO\n",
      "copying separableconv_cuda.egg-info/dependency_links.txt -> build/bdist.linux-x86_64/egg/EGG-INFO\n",
      "copying separableconv_cuda.egg-info/top_level.txt -> build/bdist.linux-x86_64/egg/EGG-INFO\n",
      "writing build/bdist.linux-x86_64/egg/EGG-INFO/native_libs.txt\n",
      "zip_safe flag not set; analyzing archive contents...\n",
      "__pycache__.separableconv_cuda.cpython-36: module references __file__\n",
      "creating dist\n",
      "creating 'dist/separableconv_cuda-0.0.0-py3.6-linux-x86_64.egg' and adding 'build/bdist.linux-x86_64/egg' to it\n",
      "removing 'build/bdist.linux-x86_64/egg' (and everything under it)\n",
      "Processing separableconv_cuda-0.0.0-py3.6-linux-x86_64.egg\n",
      "creating /usr/local/lib/python3.6/dist-packages/separableconv_cuda-0.0.0-py3.6-linux-x86_64.egg\n",
      "Extracting separableconv_cuda-0.0.0-py3.6-linux-x86_64.egg to /usr/local/lib/python3.6/dist-packages\n",
      "Adding separableconv-cuda 0.0.0 to easy-install.pth file\n",
      "\n",
      "Installed /usr/local/lib/python3.6/dist-packages/separableconv_cuda-0.0.0-py3.6-linux-x86_64.egg\n",
      "Processing dependencies for separableconv-cuda==0.0.0\n",
      "Finished processing dependencies for separableconv-cuda==0.0.0\n",
      "running install\n",
      "running bdist_egg\n",
      "running egg_info\n",
      "creating interpolationch_cuda.egg-info\n",
      "writing interpolationch_cuda.egg-info/PKG-INFO\n",
      "writing dependency_links to interpolationch_cuda.egg-info/dependency_links.txt\n",
      "writing top-level names to interpolationch_cuda.egg-info/top_level.txt\n",
      "writing manifest file 'interpolationch_cuda.egg-info/SOURCES.txt'\n",
      "reading manifest file 'interpolationch_cuda.egg-info/SOURCES.txt'\n",
      "writing manifest file 'interpolationch_cuda.egg-info/SOURCES.txt'\n",
      "installing library code to build/bdist.linux-x86_64/egg\n",
      "running install_lib\n",
      "running build_ext\n",
      "building 'interpolationch_cuda' extension\n",
      "creating build\n",
      "creating build/temp.linux-x86_64-3.6\n",
      "x86_64-linux-gnu-gcc -pthread -DNDEBUG -g -fwrapv -O2 -Wall -g -fstack-protector-strong -Wformat -Werror=format-security -Wdate-time -D_FORTIFY_SOURCE=2 -fPIC -I/usr/local/lib/python3.6/dist-packages/torch/include -I/usr/local/lib/python3.6/dist-packages/torch/include/torch/csrc/api/include -I/usr/local/lib/python3.6/dist-packages/torch/include/TH -I/usr/local/lib/python3.6/dist-packages/torch/include/THC -I/usr/local/cuda/include -I/usr/include/python3.6m -c interpolationch_cuda.cc -o build/temp.linux-x86_64-3.6/interpolationch_cuda.o -std=c++11 -w -DTORCH_API_INCLUDE_EXTENSION_H -DTORCH_EXTENSION_NAME=interpolationch_cuda -D_GLIBCXX_USE_CXX11_ABI=0\n",
      "/usr/local/cuda/bin/nvcc -I/usr/local/lib/python3.6/dist-packages/torch/include -I/usr/local/lib/python3.6/dist-packages/torch/include/torch/csrc/api/include -I/usr/local/lib/python3.6/dist-packages/torch/include/TH -I/usr/local/lib/python3.6/dist-packages/torch/include/THC -I/usr/local/cuda/include -I/usr/include/python3.6m -c interpolationch_cuda_kernel.cu -o build/temp.linux-x86_64-3.6/interpolationch_cuda_kernel.o -D__CUDA_NO_HALF_OPERATORS__ -D__CUDA_NO_HALF_CONVERSIONS__ -D__CUDA_NO_HALF2_OPERATORS__ --expt-relaxed-constexpr --compiler-options '-fPIC' -gencode arch=compute_37,code=sm_37 -gencode arch=compute_50,code=sm_50 -gencode arch=compute_52,code=sm_52 -gencode arch=compute_60,code=sm_60 -gencode arch=compute_61,code=sm_61 -gencode arch=compute_75,code=sm_75 -w -DTORCH_API_INCLUDE_EXTENSION_H -DTORCH_EXTENSION_NAME=interpolationch_cuda -D_GLIBCXX_USE_CXX11_ABI=0 -std=c++11\n",
      "creating build/lib.linux-x86_64-3.6\n",
      "x86_64-linux-gnu-g++ -pthread -shared -Wl,-O1 -Wl,-Bsymbolic-functions -Wl,-Bsymbolic-functions -Wl,-z,relro -Wl,-Bsymbolic-functions -Wl,-z,relro -g -fstack-protector-strong -Wformat -Werror=format-security -Wdate-time -D_FORTIFY_SOURCE=2 build/temp.linux-x86_64-3.6/interpolationch_cuda.o build/temp.linux-x86_64-3.6/interpolationch_cuda_kernel.o -L/usr/local/cuda/lib64 -lcudart -o build/lib.linux-x86_64-3.6/interpolationch_cuda.cpython-36m-x86_64-linux-gnu.so\n",
      "creating build/bdist.linux-x86_64\n",
      "creating build/bdist.linux-x86_64/egg\n",
      "copying build/lib.linux-x86_64-3.6/interpolationch_cuda.cpython-36m-x86_64-linux-gnu.so -> build/bdist.linux-x86_64/egg\n",
      "creating stub loader for interpolationch_cuda.cpython-36m-x86_64-linux-gnu.so\n",
      "byte-compiling build/bdist.linux-x86_64/egg/interpolationch_cuda.py to interpolationch_cuda.cpython-36.pyc\n",
      "creating build/bdist.linux-x86_64/egg/EGG-INFO\n",
      "copying interpolationch_cuda.egg-info/PKG-INFO -> build/bdist.linux-x86_64/egg/EGG-INFO\n",
      "copying interpolationch_cuda.egg-info/SOURCES.txt -> build/bdist.linux-x86_64/egg/EGG-INFO\n",
      "copying interpolationch_cuda.egg-info/dependency_links.txt -> build/bdist.linux-x86_64/egg/EGG-INFO\n",
      "copying interpolationch_cuda.egg-info/top_level.txt -> build/bdist.linux-x86_64/egg/EGG-INFO\n",
      "writing build/bdist.linux-x86_64/egg/EGG-INFO/native_libs.txt\n",
      "zip_safe flag not set; analyzing archive contents...\n",
      "__pycache__.interpolationch_cuda.cpython-36: module references __file__\n",
      "creating dist\n",
      "creating 'dist/interpolationch_cuda-0.0.0-py3.6-linux-x86_64.egg' and adding 'build/bdist.linux-x86_64/egg' to it\n",
      "removing 'build/bdist.linux-x86_64/egg' (and everything under it)\n",
      "Processing interpolationch_cuda-0.0.0-py3.6-linux-x86_64.egg\n",
      "creating /usr/local/lib/python3.6/dist-packages/interpolationch_cuda-0.0.0-py3.6-linux-x86_64.egg\n",
      "Extracting interpolationch_cuda-0.0.0-py3.6-linux-x86_64.egg to /usr/local/lib/python3.6/dist-packages\n",
      "Adding interpolationch-cuda 0.0.0 to easy-install.pth file\n",
      "\n",
      "Installed /usr/local/lib/python3.6/dist-packages/interpolationch_cuda-0.0.0-py3.6-linux-x86_64.egg\n",
      "Processing dependencies for interpolationch-cuda==0.0.0\n",
      "Finished processing dependencies for interpolationch-cuda==0.0.0\n",
      "running install\n",
      "running bdist_egg\n",
      "running egg_info\n",
      "creating depthflowprojection_cuda.egg-info\n",
      "writing depthflowprojection_cuda.egg-info/PKG-INFO\n",
      "writing dependency_links to depthflowprojection_cuda.egg-info/dependency_links.txt\n",
      "writing top-level names to depthflowprojection_cuda.egg-info/top_level.txt\n",
      "writing manifest file 'depthflowprojection_cuda.egg-info/SOURCES.txt'\n",
      "reading manifest file 'depthflowprojection_cuda.egg-info/SOURCES.txt'\n",
      "writing manifest file 'depthflowprojection_cuda.egg-info/SOURCES.txt'\n",
      "installing library code to build/bdist.linux-x86_64/egg\n",
      "running install_lib\n",
      "running build_ext\n",
      "building 'depthflowprojection_cuda' extension\n",
      "creating build\n",
      "creating build/temp.linux-x86_64-3.6\n",
      "x86_64-linux-gnu-gcc -pthread -DNDEBUG -g -fwrapv -O2 -Wall -g -fstack-protector-strong -Wformat -Werror=format-security -Wdate-time -D_FORTIFY_SOURCE=2 -fPIC -I/usr/local/lib/python3.6/dist-packages/torch/include -I/usr/local/lib/python3.6/dist-packages/torch/include/torch/csrc/api/include -I/usr/local/lib/python3.6/dist-packages/torch/include/TH -I/usr/local/lib/python3.6/dist-packages/torch/include/THC -I/usr/local/cuda/include -I/usr/include/python3.6m -c depthflowprojection_cuda.cc -o build/temp.linux-x86_64-3.6/depthflowprojection_cuda.o -std=c++11 -w -DTORCH_API_INCLUDE_EXTENSION_H -DTORCH_EXTENSION_NAME=depthflowprojection_cuda -D_GLIBCXX_USE_CXX11_ABI=0\n",
      "/usr/local/cuda/bin/nvcc -I/usr/local/lib/python3.6/dist-packages/torch/include -I/usr/local/lib/python3.6/dist-packages/torch/include/torch/csrc/api/include -I/usr/local/lib/python3.6/dist-packages/torch/include/TH -I/usr/local/lib/python3.6/dist-packages/torch/include/THC -I/usr/local/cuda/include -I/usr/include/python3.6m -c depthflowprojection_cuda_kernel.cu -o build/temp.linux-x86_64-3.6/depthflowprojection_cuda_kernel.o -D__CUDA_NO_HALF_OPERATORS__ -D__CUDA_NO_HALF_CONVERSIONS__ -D__CUDA_NO_HALF2_OPERATORS__ --expt-relaxed-constexpr --compiler-options '-fPIC' -gencode arch=compute_37,code=sm_37 -gencode arch=compute_50,code=sm_50 -gencode arch=compute_52,code=sm_52 -gencode arch=compute_60,code=sm_60 -gencode arch=compute_61,code=sm_61 -gencode arch=compute_75,code=sm_75 -w -DTORCH_API_INCLUDE_EXTENSION_H -DTORCH_EXTENSION_NAME=depthflowprojection_cuda -D_GLIBCXX_USE_CXX11_ABI=0 -std=c++11\n",
      "creating build/lib.linux-x86_64-3.6\n",
      "x86_64-linux-gnu-g++ -pthread -shared -Wl,-O1 -Wl,-Bsymbolic-functions -Wl,-Bsymbolic-functions -Wl,-z,relro -Wl,-Bsymbolic-functions -Wl,-z,relro -g -fstack-protector-strong -Wformat -Werror=format-security -Wdate-time -D_FORTIFY_SOURCE=2 build/temp.linux-x86_64-3.6/depthflowprojection_cuda.o build/temp.linux-x86_64-3.6/depthflowprojection_cuda_kernel.o -L/usr/local/cuda/lib64 -lcudart -o build/lib.linux-x86_64-3.6/depthflowprojection_cuda.cpython-36m-x86_64-linux-gnu.so\n",
      "creating build/bdist.linux-x86_64\n",
      "creating build/bdist.linux-x86_64/egg\n",
      "copying build/lib.linux-x86_64-3.6/depthflowprojection_cuda.cpython-36m-x86_64-linux-gnu.so -> build/bdist.linux-x86_64/egg\n",
      "creating stub loader for depthflowprojection_cuda.cpython-36m-x86_64-linux-gnu.so\n",
      "byte-compiling build/bdist.linux-x86_64/egg/depthflowprojection_cuda.py to depthflowprojection_cuda.cpython-36.pyc\n",
      "creating build/bdist.linux-x86_64/egg/EGG-INFO\n",
      "copying depthflowprojection_cuda.egg-info/PKG-INFO -> build/bdist.linux-x86_64/egg/EGG-INFO\n",
      "copying depthflowprojection_cuda.egg-info/SOURCES.txt -> build/bdist.linux-x86_64/egg/EGG-INFO\n",
      "copying depthflowprojection_cuda.egg-info/dependency_links.txt -> build/bdist.linux-x86_64/egg/EGG-INFO\n",
      "copying depthflowprojection_cuda.egg-info/top_level.txt -> build/bdist.linux-x86_64/egg/EGG-INFO\n",
      "writing build/bdist.linux-x86_64/egg/EGG-INFO/native_libs.txt\n",
      "zip_safe flag not set; analyzing archive contents...\n",
      "__pycache__.depthflowprojection_cuda.cpython-36: module references __file__\n",
      "creating dist\n",
      "creating 'dist/depthflowprojection_cuda-0.0.0-py3.6-linux-x86_64.egg' and adding 'build/bdist.linux-x86_64/egg' to it\n",
      "removing 'build/bdist.linux-x86_64/egg' (and everything under it)\n",
      "Processing depthflowprojection_cuda-0.0.0-py3.6-linux-x86_64.egg\n",
      "creating /usr/local/lib/python3.6/dist-packages/depthflowprojection_cuda-0.0.0-py3.6-linux-x86_64.egg\n",
      "Extracting depthflowprojection_cuda-0.0.0-py3.6-linux-x86_64.egg to /usr/local/lib/python3.6/dist-packages\n",
      "Adding depthflowprojection-cuda 0.0.0 to easy-install.pth file\n",
      "\n",
      "Installed /usr/local/lib/python3.6/dist-packages/depthflowprojection_cuda-0.0.0-py3.6-linux-x86_64.egg\n",
      "Processing dependencies for depthflowprojection-cuda==0.0.0\n",
      "Finished processing dependencies for depthflowprojection-cuda==0.0.0\n",
      "running install\n",
      "running bdist_egg\n",
      "running egg_info\n",
      "creating interpolation_cuda.egg-info\n",
      "writing interpolation_cuda.egg-info/PKG-INFO\n",
      "writing dependency_links to interpolation_cuda.egg-info/dependency_links.txt\n",
      "writing top-level names to interpolation_cuda.egg-info/top_level.txt\n",
      "writing manifest file 'interpolation_cuda.egg-info/SOURCES.txt'\n",
      "reading manifest file 'interpolation_cuda.egg-info/SOURCES.txt'\n",
      "writing manifest file 'interpolation_cuda.egg-info/SOURCES.txt'\n",
      "installing library code to build/bdist.linux-x86_64/egg\n",
      "running install_lib\n",
      "running build_ext\n",
      "building 'interpolation_cuda' extension\n",
      "creating build\n",
      "creating build/temp.linux-x86_64-3.6\n",
      "x86_64-linux-gnu-gcc -pthread -DNDEBUG -g -fwrapv -O2 -Wall -g -fstack-protector-strong -Wformat -Werror=format-security -Wdate-time -D_FORTIFY_SOURCE=2 -fPIC -I/usr/local/lib/python3.6/dist-packages/torch/include -I/usr/local/lib/python3.6/dist-packages/torch/include/torch/csrc/api/include -I/usr/local/lib/python3.6/dist-packages/torch/include/TH -I/usr/local/lib/python3.6/dist-packages/torch/include/THC -I/usr/local/cuda/include -I/usr/include/python3.6m -c interpolation_cuda.cc -o build/temp.linux-x86_64-3.6/interpolation_cuda.o -std=c++11 -w -DTORCH_API_INCLUDE_EXTENSION_H -DTORCH_EXTENSION_NAME=interpolation_cuda -D_GLIBCXX_USE_CXX11_ABI=0\n",
      "/usr/local/cuda/bin/nvcc -I/usr/local/lib/python3.6/dist-packages/torch/include -I/usr/local/lib/python3.6/dist-packages/torch/include/torch/csrc/api/include -I/usr/local/lib/python3.6/dist-packages/torch/include/TH -I/usr/local/lib/python3.6/dist-packages/torch/include/THC -I/usr/local/cuda/include -I/usr/include/python3.6m -c interpolation_cuda_kernel.cu -o build/temp.linux-x86_64-3.6/interpolation_cuda_kernel.o -D__CUDA_NO_HALF_OPERATORS__ -D__CUDA_NO_HALF_CONVERSIONS__ -D__CUDA_NO_HALF2_OPERATORS__ --expt-relaxed-constexpr --compiler-options '-fPIC' -gencode arch=compute_37,code=sm_37 -gencode arch=compute_50,code=sm_50 -gencode arch=compute_52,code=sm_52 -gencode arch=compute_60,code=sm_60 -gencode arch=compute_61,code=sm_61 -gencode arch=compute_75,code=sm_75 -w -DTORCH_API_INCLUDE_EXTENSION_H -DTORCH_EXTENSION_NAME=interpolation_cuda -D_GLIBCXX_USE_CXX11_ABI=0 -std=c++11\n",
      "creating build/lib.linux-x86_64-3.6\n",
      "x86_64-linux-gnu-g++ -pthread -shared -Wl,-O1 -Wl,-Bsymbolic-functions -Wl,-Bsymbolic-functions -Wl,-z,relro -Wl,-Bsymbolic-functions -Wl,-z,relro -g -fstack-protector-strong -Wformat -Werror=format-security -Wdate-time -D_FORTIFY_SOURCE=2 build/temp.linux-x86_64-3.6/interpolation_cuda.o build/temp.linux-x86_64-3.6/interpolation_cuda_kernel.o -L/usr/local/cuda/lib64 -lcudart -o build/lib.linux-x86_64-3.6/interpolation_cuda.cpython-36m-x86_64-linux-gnu.so\n",
      "creating build/bdist.linux-x86_64\n",
      "creating build/bdist.linux-x86_64/egg\n",
      "copying build/lib.linux-x86_64-3.6/interpolation_cuda.cpython-36m-x86_64-linux-gnu.so -> build/bdist.linux-x86_64/egg\n",
      "creating stub loader for interpolation_cuda.cpython-36m-x86_64-linux-gnu.so\n",
      "byte-compiling build/bdist.linux-x86_64/egg/interpolation_cuda.py to interpolation_cuda.cpython-36.pyc\n",
      "creating build/bdist.linux-x86_64/egg/EGG-INFO\n",
      "copying interpolation_cuda.egg-info/PKG-INFO -> build/bdist.linux-x86_64/egg/EGG-INFO\n",
      "copying interpolation_cuda.egg-info/SOURCES.txt -> build/bdist.linux-x86_64/egg/EGG-INFO\n",
      "copying interpolation_cuda.egg-info/dependency_links.txt -> build/bdist.linux-x86_64/egg/EGG-INFO\n",
      "copying interpolation_cuda.egg-info/top_level.txt -> build/bdist.linux-x86_64/egg/EGG-INFO\n",
      "writing build/bdist.linux-x86_64/egg/EGG-INFO/native_libs.txt\n",
      "zip_safe flag not set; analyzing archive contents...\n",
      "__pycache__.interpolation_cuda.cpython-36: module references __file__\n",
      "creating dist\n",
      "creating 'dist/interpolation_cuda-0.0.0-py3.6-linux-x86_64.egg' and adding 'build/bdist.linux-x86_64/egg' to it\n",
      "removing 'build/bdist.linux-x86_64/egg' (and everything under it)\n",
      "Processing interpolation_cuda-0.0.0-py3.6-linux-x86_64.egg\n",
      "creating /usr/local/lib/python3.6/dist-packages/interpolation_cuda-0.0.0-py3.6-linux-x86_64.egg\n",
      "Extracting interpolation_cuda-0.0.0-py3.6-linux-x86_64.egg to /usr/local/lib/python3.6/dist-packages\n",
      "Adding interpolation-cuda 0.0.0 to easy-install.pth file\n",
      "\n",
      "Installed /usr/local/lib/python3.6/dist-packages/interpolation_cuda-0.0.0-py3.6-linux-x86_64.egg\n",
      "Processing dependencies for interpolation-cuda==0.0.0\n",
      "Finished processing dependencies for interpolation-cuda==0.0.0\n",
      "running install\n",
      "running bdist_egg\n",
      "running egg_info\n",
      "creating separableconvflow_cuda.egg-info\n",
      "writing separableconvflow_cuda.egg-info/PKG-INFO\n",
      "writing dependency_links to separableconvflow_cuda.egg-info/dependency_links.txt\n",
      "writing top-level names to separableconvflow_cuda.egg-info/top_level.txt\n",
      "writing manifest file 'separableconvflow_cuda.egg-info/SOURCES.txt'\n",
      "reading manifest file 'separableconvflow_cuda.egg-info/SOURCES.txt'\n",
      "writing manifest file 'separableconvflow_cuda.egg-info/SOURCES.txt'\n",
      "installing library code to build/bdist.linux-x86_64/egg\n",
      "running install_lib\n",
      "running build_ext\n",
      "building 'separableconvflow_cuda' extension\n",
      "creating build\n",
      "creating build/temp.linux-x86_64-3.6\n",
      "x86_64-linux-gnu-gcc -pthread -DNDEBUG -g -fwrapv -O2 -Wall -g -fstack-protector-strong -Wformat -Werror=format-security -Wdate-time -D_FORTIFY_SOURCE=2 -fPIC -I/usr/local/lib/python3.6/dist-packages/torch/include -I/usr/local/lib/python3.6/dist-packages/torch/include/torch/csrc/api/include -I/usr/local/lib/python3.6/dist-packages/torch/include/TH -I/usr/local/lib/python3.6/dist-packages/torch/include/THC -I/usr/local/cuda/include -I/usr/include/python3.6m -c separableconvflow_cuda.cc -o build/temp.linux-x86_64-3.6/separableconvflow_cuda.o -std=c++11 -w -DTORCH_API_INCLUDE_EXTENSION_H -DTORCH_EXTENSION_NAME=separableconvflow_cuda -D_GLIBCXX_USE_CXX11_ABI=0\n",
      "/usr/local/cuda/bin/nvcc -I/usr/local/lib/python3.6/dist-packages/torch/include -I/usr/local/lib/python3.6/dist-packages/torch/include/torch/csrc/api/include -I/usr/local/lib/python3.6/dist-packages/torch/include/TH -I/usr/local/lib/python3.6/dist-packages/torch/include/THC -I/usr/local/cuda/include -I/usr/include/python3.6m -c separableconvflow_cuda_kernel.cu -o build/temp.linux-x86_64-3.6/separableconvflow_cuda_kernel.o -D__CUDA_NO_HALF_OPERATORS__ -D__CUDA_NO_HALF_CONVERSIONS__ -D__CUDA_NO_HALF2_OPERATORS__ --expt-relaxed-constexpr --compiler-options '-fPIC' -gencode arch=compute_37,code=sm_37 -gencode arch=compute_50,code=sm_50 -gencode arch=compute_52,code=sm_52 -gencode arch=compute_60,code=sm_60 -gencode arch=compute_61,code=sm_61 -gencode arch=compute_75,code=sm_75 -w -DTORCH_API_INCLUDE_EXTENSION_H -DTORCH_EXTENSION_NAME=separableconvflow_cuda -D_GLIBCXX_USE_CXX11_ABI=0 -std=c++11\n",
      "creating build/lib.linux-x86_64-3.6\n",
      "x86_64-linux-gnu-g++ -pthread -shared -Wl,-O1 -Wl,-Bsymbolic-functions -Wl,-Bsymbolic-functions -Wl,-z,relro -Wl,-Bsymbolic-functions -Wl,-z,relro -g -fstack-protector-strong -Wformat -Werror=format-security -Wdate-time -D_FORTIFY_SOURCE=2 build/temp.linux-x86_64-3.6/separableconvflow_cuda.o build/temp.linux-x86_64-3.6/separableconvflow_cuda_kernel.o -L/usr/local/cuda/lib64 -lcudart -o build/lib.linux-x86_64-3.6/separableconvflow_cuda.cpython-36m-x86_64-linux-gnu.so\n",
      "creating build/bdist.linux-x86_64\n",
      "creating build/bdist.linux-x86_64/egg\n",
      "copying build/lib.linux-x86_64-3.6/separableconvflow_cuda.cpython-36m-x86_64-linux-gnu.so -> build/bdist.linux-x86_64/egg\n",
      "creating stub loader for separableconvflow_cuda.cpython-36m-x86_64-linux-gnu.so\n",
      "byte-compiling build/bdist.linux-x86_64/egg/separableconvflow_cuda.py to separableconvflow_cuda.cpython-36.pyc\n",
      "creating build/bdist.linux-x86_64/egg/EGG-INFO\n",
      "copying separableconvflow_cuda.egg-info/PKG-INFO -> build/bdist.linux-x86_64/egg/EGG-INFO\n",
      "copying separableconvflow_cuda.egg-info/SOURCES.txt -> build/bdist.linux-x86_64/egg/EGG-INFO\n",
      "copying separableconvflow_cuda.egg-info/dependency_links.txt -> build/bdist.linux-x86_64/egg/EGG-INFO\n",
      "copying separableconvflow_cuda.egg-info/top_level.txt -> build/bdist.linux-x86_64/egg/EGG-INFO\n",
      "writing build/bdist.linux-x86_64/egg/EGG-INFO/native_libs.txt\n",
      "zip_safe flag not set; analyzing archive contents...\n",
      "__pycache__.separableconvflow_cuda.cpython-36: module references __file__\n",
      "creating dist\n",
      "creating 'dist/separableconvflow_cuda-0.0.0-py3.6-linux-x86_64.egg' and adding 'build/bdist.linux-x86_64/egg' to it\n",
      "removing 'build/bdist.linux-x86_64/egg' (and everything under it)\n",
      "Processing separableconvflow_cuda-0.0.0-py3.6-linux-x86_64.egg\n",
      "creating /usr/local/lib/python3.6/dist-packages/separableconvflow_cuda-0.0.0-py3.6-linux-x86_64.egg\n",
      "Extracting separableconvflow_cuda-0.0.0-py3.6-linux-x86_64.egg to /usr/local/lib/python3.6/dist-packages\n",
      "Adding separableconvflow-cuda 0.0.0 to easy-install.pth file\n",
      "\n",
      "Installed /usr/local/lib/python3.6/dist-packages/separableconvflow_cuda-0.0.0-py3.6-linux-x86_64.egg\n",
      "Processing dependencies for separableconvflow-cuda==0.0.0\n",
      "Finished processing dependencies for separableconvflow-cuda==0.0.0\n",
      "running install\n",
      "running bdist_egg\n",
      "running egg_info\n",
      "creating filterinterpolation_cuda.egg-info\n",
      "writing filterinterpolation_cuda.egg-info/PKG-INFO\n",
      "writing dependency_links to filterinterpolation_cuda.egg-info/dependency_links.txt\n",
      "writing top-level names to filterinterpolation_cuda.egg-info/top_level.txt\n",
      "writing manifest file 'filterinterpolation_cuda.egg-info/SOURCES.txt'\n",
      "reading manifest file 'filterinterpolation_cuda.egg-info/SOURCES.txt'\n",
      "writing manifest file 'filterinterpolation_cuda.egg-info/SOURCES.txt'\n",
      "installing library code to build/bdist.linux-x86_64/egg\n",
      "running install_lib\n",
      "running build_ext\n",
      "building 'filterinterpolation_cuda' extension\n",
      "creating build\n",
      "creating build/temp.linux-x86_64-3.6\n",
      "x86_64-linux-gnu-gcc -pthread -DNDEBUG -g -fwrapv -O2 -Wall -g -fstack-protector-strong -Wformat -Werror=format-security -Wdate-time -D_FORTIFY_SOURCE=2 -fPIC -I/usr/local/lib/python3.6/dist-packages/torch/include -I/usr/local/lib/python3.6/dist-packages/torch/include/torch/csrc/api/include -I/usr/local/lib/python3.6/dist-packages/torch/include/TH -I/usr/local/lib/python3.6/dist-packages/torch/include/THC -I/usr/local/cuda/include -I/usr/include/python3.6m -c filterinterpolation_cuda.cc -o build/temp.linux-x86_64-3.6/filterinterpolation_cuda.o -std=c++11 -w -DTORCH_API_INCLUDE_EXTENSION_H -DTORCH_EXTENSION_NAME=filterinterpolation_cuda -D_GLIBCXX_USE_CXX11_ABI=0\n",
      "/usr/local/cuda/bin/nvcc -I/usr/local/lib/python3.6/dist-packages/torch/include -I/usr/local/lib/python3.6/dist-packages/torch/include/torch/csrc/api/include -I/usr/local/lib/python3.6/dist-packages/torch/include/TH -I/usr/local/lib/python3.6/dist-packages/torch/include/THC -I/usr/local/cuda/include -I/usr/include/python3.6m -c filterinterpolation_cuda_kernel.cu -o build/temp.linux-x86_64-3.6/filterinterpolation_cuda_kernel.o -D__CUDA_NO_HALF_OPERATORS__ -D__CUDA_NO_HALF_CONVERSIONS__ -D__CUDA_NO_HALF2_OPERATORS__ --expt-relaxed-constexpr --compiler-options '-fPIC' -gencode arch=compute_37,code=sm_37 -gencode arch=compute_50,code=sm_50 -gencode arch=compute_52,code=sm_52 -gencode arch=compute_60,code=sm_60 -gencode arch=compute_61,code=sm_61 -gencode arch=compute_75,code=sm_75 -w -DTORCH_API_INCLUDE_EXTENSION_H -DTORCH_EXTENSION_NAME=filterinterpolation_cuda -D_GLIBCXX_USE_CXX11_ABI=0 -std=c++11\n",
      "creating build/lib.linux-x86_64-3.6\n",
      "x86_64-linux-gnu-g++ -pthread -shared -Wl,-O1 -Wl,-Bsymbolic-functions -Wl,-Bsymbolic-functions -Wl,-z,relro -Wl,-Bsymbolic-functions -Wl,-z,relro -g -fstack-protector-strong -Wformat -Werror=format-security -Wdate-time -D_FORTIFY_SOURCE=2 build/temp.linux-x86_64-3.6/filterinterpolation_cuda.o build/temp.linux-x86_64-3.6/filterinterpolation_cuda_kernel.o -L/usr/local/cuda/lib64 -lcudart -o build/lib.linux-x86_64-3.6/filterinterpolation_cuda.cpython-36m-x86_64-linux-gnu.so\n",
      "creating build/bdist.linux-x86_64\n",
      "creating build/bdist.linux-x86_64/egg\n",
      "copying build/lib.linux-x86_64-3.6/filterinterpolation_cuda.cpython-36m-x86_64-linux-gnu.so -> build/bdist.linux-x86_64/egg\n",
      "creating stub loader for filterinterpolation_cuda.cpython-36m-x86_64-linux-gnu.so\n",
      "byte-compiling build/bdist.linux-x86_64/egg/filterinterpolation_cuda.py to filterinterpolation_cuda.cpython-36.pyc\n",
      "creating build/bdist.linux-x86_64/egg/EGG-INFO\n",
      "copying filterinterpolation_cuda.egg-info/PKG-INFO -> build/bdist.linux-x86_64/egg/EGG-INFO\n",
      "copying filterinterpolation_cuda.egg-info/SOURCES.txt -> build/bdist.linux-x86_64/egg/EGG-INFO\n",
      "copying filterinterpolation_cuda.egg-info/dependency_links.txt -> build/bdist.linux-x86_64/egg/EGG-INFO\n",
      "copying filterinterpolation_cuda.egg-info/top_level.txt -> build/bdist.linux-x86_64/egg/EGG-INFO\n",
      "writing build/bdist.linux-x86_64/egg/EGG-INFO/native_libs.txt\n",
      "zip_safe flag not set; analyzing archive contents...\n",
      "__pycache__.filterinterpolation_cuda.cpython-36: module references __file__\n",
      "creating dist\n",
      "creating 'dist/filterinterpolation_cuda-0.0.0-py3.6-linux-x86_64.egg' and adding 'build/bdist.linux-x86_64/egg' to it\n",
      "removing 'build/bdist.linux-x86_64/egg' (and everything under it)\n",
      "Processing filterinterpolation_cuda-0.0.0-py3.6-linux-x86_64.egg\n",
      "creating /usr/local/lib/python3.6/dist-packages/filterinterpolation_cuda-0.0.0-py3.6-linux-x86_64.egg\n",
      "Extracting filterinterpolation_cuda-0.0.0-py3.6-linux-x86_64.egg to /usr/local/lib/python3.6/dist-packages\n",
      "Adding filterinterpolation-cuda 0.0.0 to easy-install.pth file\n",
      "\n",
      "Installed /usr/local/lib/python3.6/dist-packages/filterinterpolation_cuda-0.0.0-py3.6-linux-x86_64.egg\n",
      "Processing dependencies for filterinterpolation-cuda==0.0.0\n",
      "Finished processing dependencies for filterinterpolation-cuda==0.0.0\n",
      "Building #1 done.\n",
      "/notebooks\n"
     ]
    }
   ],
   "source": [
    "# This takes a while. Just wait. ~15 minutes.\n",
    "# Building DAIN.\n",
    "%cd DAIN/my_package/\n",
    "!./build.sh\n",
    "print(\"Building #1 done.\")\n",
    "%cd ../../"
   ]
  },
  {
   "cell_type": "code",
   "execution_count": 19,
   "metadata": {},
   "outputs": [
    {
     "name": "stdout",
     "output_type": "stream",
     "text": [
      "/notebooks\n"
     ]
    }
   ],
   "source": [
    "%cd notebooks"
   ]
  },
  {
   "cell_type": "code",
   "execution_count": 20,
   "metadata": {
    "colab": {},
    "colab_type": "code",
    "collapsed": true,
    "id": "UeaU8um5-2NS",
    "jupyter": {
     "outputs_hidden": true
    }
   },
   "outputs": [
    {
     "name": "stdout",
     "output_type": "stream",
     "text": [
      "/notebooks/DAIN/PWCNet/correlation_package_pytorch1_0\n",
      "Need pytorch>=1.0.0\n",
      "./build.sh: line 4: activate: No such file or directory\n",
      "running install\n",
      "running bdist_egg\n",
      "running egg_info\n",
      "creating correlation_cuda.egg-info\n",
      "writing correlation_cuda.egg-info/PKG-INFO\n",
      "writing dependency_links to correlation_cuda.egg-info/dependency_links.txt\n",
      "writing top-level names to correlation_cuda.egg-info/top_level.txt\n",
      "writing manifest file 'correlation_cuda.egg-info/SOURCES.txt'\n",
      "reading manifest file 'correlation_cuda.egg-info/SOURCES.txt'\n",
      "writing manifest file 'correlation_cuda.egg-info/SOURCES.txt'\n",
      "installing library code to build/bdist.linux-x86_64/egg\n",
      "running install_lib\n",
      "running build_ext\n",
      "building 'correlation_cuda' extension\n",
      "creating build\n",
      "creating build/temp.linux-x86_64-3.6\n",
      "x86_64-linux-gnu-gcc -pthread -DNDEBUG -g -fwrapv -O2 -Wall -g -fstack-protector-strong -Wformat -Werror=format-security -Wdate-time -D_FORTIFY_SOURCE=2 -fPIC -I/usr/local/lib/python3.6/dist-packages/torch/include -I/usr/local/lib/python3.6/dist-packages/torch/include/torch/csrc/api/include -I/usr/local/lib/python3.6/dist-packages/torch/include/TH -I/usr/local/lib/python3.6/dist-packages/torch/include/THC -I/usr/local/cuda/include -I/usr/include/python3.6m -c correlation_cuda.cc -o build/temp.linux-x86_64-3.6/correlation_cuda.o -std=c++11 -w -DTORCH_API_INCLUDE_EXTENSION_H -DTORCH_EXTENSION_NAME=correlation_cuda -D_GLIBCXX_USE_CXX11_ABI=0\n",
      "/usr/local/cuda/bin/nvcc -I/usr/local/lib/python3.6/dist-packages/torch/include -I/usr/local/lib/python3.6/dist-packages/torch/include/torch/csrc/api/include -I/usr/local/lib/python3.6/dist-packages/torch/include/TH -I/usr/local/lib/python3.6/dist-packages/torch/include/THC -I/usr/local/cuda/include -I/usr/include/python3.6m -c correlation_cuda_kernel.cu -o build/temp.linux-x86_64-3.6/correlation_cuda_kernel.o -D__CUDA_NO_HALF_OPERATORS__ -D__CUDA_NO_HALF_CONVERSIONS__ -D__CUDA_NO_HALF2_OPERATORS__ --expt-relaxed-constexpr --compiler-options '-fPIC' -gencode arch=compute_37,code=sm_37 -gencode arch=compute_50,code=sm_50 -gencode arch=compute_52,code=sm_52 -gencode arch=compute_60,code=sm_60 -gencode arch=compute_61,code=sm_61 -gencode arch=compute_75,code=sm_75 -w -DTORCH_API_INCLUDE_EXTENSION_H -DTORCH_EXTENSION_NAME=correlation_cuda -D_GLIBCXX_USE_CXX11_ABI=0 -std=c++11\n",
      "creating build/lib.linux-x86_64-3.6\n",
      "x86_64-linux-gnu-g++ -pthread -shared -Wl,-O1 -Wl,-Bsymbolic-functions -Wl,-Bsymbolic-functions -Wl,-z,relro -Wl,-Bsymbolic-functions -Wl,-z,relro -g -fstack-protector-strong -Wformat -Werror=format-security -Wdate-time -D_FORTIFY_SOURCE=2 build/temp.linux-x86_64-3.6/correlation_cuda.o build/temp.linux-x86_64-3.6/correlation_cuda_kernel.o -L/usr/local/cuda/lib64 -lcudart -o build/lib.linux-x86_64-3.6/correlation_cuda.cpython-36m-x86_64-linux-gnu.so\n",
      "creating build/bdist.linux-x86_64\n",
      "creating build/bdist.linux-x86_64/egg\n",
      "copying build/lib.linux-x86_64-3.6/correlation_cuda.cpython-36m-x86_64-linux-gnu.so -> build/bdist.linux-x86_64/egg\n",
      "creating stub loader for correlation_cuda.cpython-36m-x86_64-linux-gnu.so\n",
      "byte-compiling build/bdist.linux-x86_64/egg/correlation_cuda.py to correlation_cuda.cpython-36.pyc\n",
      "creating build/bdist.linux-x86_64/egg/EGG-INFO\n",
      "copying correlation_cuda.egg-info/PKG-INFO -> build/bdist.linux-x86_64/egg/EGG-INFO\n",
      "copying correlation_cuda.egg-info/SOURCES.txt -> build/bdist.linux-x86_64/egg/EGG-INFO\n",
      "copying correlation_cuda.egg-info/dependency_links.txt -> build/bdist.linux-x86_64/egg/EGG-INFO\n",
      "copying correlation_cuda.egg-info/top_level.txt -> build/bdist.linux-x86_64/egg/EGG-INFO\n",
      "writing build/bdist.linux-x86_64/egg/EGG-INFO/native_libs.txt\n",
      "zip_safe flag not set; analyzing archive contents...\n",
      "__pycache__.correlation_cuda.cpython-36: module references __file__\n",
      "creating dist\n",
      "creating 'dist/correlation_cuda-0.0.0-py3.6-linux-x86_64.egg' and adding 'build/bdist.linux-x86_64/egg' to it\n",
      "removing 'build/bdist.linux-x86_64/egg' (and everything under it)\n",
      "Processing correlation_cuda-0.0.0-py3.6-linux-x86_64.egg\n",
      "creating /usr/local/lib/python3.6/dist-packages/correlation_cuda-0.0.0-py3.6-linux-x86_64.egg\n",
      "Extracting correlation_cuda-0.0.0-py3.6-linux-x86_64.egg to /usr/local/lib/python3.6/dist-packages\n",
      "Adding correlation-cuda 0.0.0 to easy-install.pth file\n",
      "\n",
      "Installed /usr/local/lib/python3.6/dist-packages/correlation_cuda-0.0.0-py3.6-linux-x86_64.egg\n",
      "Processing dependencies for correlation-cuda==0.0.0\n",
      "Finished processing dependencies for correlation-cuda==0.0.0\n",
      "Building #2 done.\n",
      "/notebooks/DAIN\n"
     ]
    }
   ],
   "source": [
    "# Wait again. ~5 minutes.\n",
    "# Building DAIN PyTorch correlation package.\n",
    "%cd DAIN/PWCNet/correlation_package_pytorch1_0\n",
    "!./build.sh\n",
    "print(\"Building #2 done.\")\n",
    "%cd ../../.."
   ]
  },
  {
   "cell_type": "code",
   "execution_count": 22,
   "metadata": {
    "colab": {},
    "colab_type": "code",
    "id": "InjqMYIyXCZs"
   },
   "outputs": [
    {
     "name": "stdout",
     "output_type": "stream",
     "text": [
      "--2020-09-14 20:22:33--  http://vllab1.ucmerced.edu/~wenbobao/DAIN/best.pth\n",
      "Resolving vllab1.ucmerced.edu (vllab1.ucmerced.edu)... 169.236.184.68\n",
      "Connecting to vllab1.ucmerced.edu (vllab1.ucmerced.edu)|169.236.184.68|:80... connected.\n",
      "HTTP request sent, awaiting response... 200 OK\n",
      "Length: 96319643 (92M)\n",
      "Saving to: ‘DAIN/model_weights/best.pth’\n",
      "\n",
      "DAIN/model_weights/ 100%[===================>]  91.86M  21.8MB/s    in 3.8s    \n",
      "\n",
      "2020-09-14 20:22:37 (24.3 MB/s) - ‘DAIN/model_weights/best.pth’ saved [96319643/96319643]\n",
      "\n"
     ]
    }
   ],
   "source": [
    "# Downloading pre-trained model\n",
    "!mkdir DAIN/model_weights\n",
    "!wget -O DAIN/model_weights/best.pth http://vllab1.ucmerced.edu/~wenbobao/DAIN/best.pth"
   ]
  },
  {
   "cell_type": "code",
   "execution_count": 4,
   "metadata": {
    "colab": {},
    "colab_type": "code",
    "id": "FrdWsqbvXEid"
   },
   "outputs": [
    {
     "name": "stdout",
     "output_type": "stream",
     "text": [
      "Finished installing dependencies.\n"
     ]
    }
   ],
   "source": [
    "!CUDA_VISIBLE_DEVICES=0\n",
    "print(\"Finished installing dependencies.\")"
   ]
  },
  {
   "cell_type": "code",
   "execution_count": 7,
   "metadata": {
    "colab": {},
    "colab_type": "code",
    "id": "zm5kn6vTncL4"
   },
   "outputs": [],
   "source": [
    "# Detecting FPS of input file.\n",
    "\n",
    "filename = os.path.basename(INPUT_FILEPATH)\n",
    "\n",
    "cap = cv2.VideoCapture(f'video/{filename}')\n",
    "\n",
    "fps = cap.get(cv2.CAP_PROP_FPS)\n",
    "\n",
    "if(fps/TARGET_FPS>0.5):\n",
    "  print(\"Define a higher fps, because there is not enough time for new frames. (Old FPS)/(New FPS) should be lower than 0.5. Interpolation will fail if you try.\")"
   ]
  },
  {
   "cell_type": "code",
   "execution_count": 8,
   "metadata": {},
   "outputs": [
    {
     "name": "stdout",
     "output_type": "stream",
     "text": [
      "ffmpeg version 3.4.8-0ubuntu0.2 Copyright (c) 2000-2020 the FFmpeg developers\n",
      "  built with gcc 7 (Ubuntu 7.5.0-3ubuntu1~18.04)\n",
      "  configuration: --prefix=/usr --extra-version=0ubuntu0.2 --toolchain=hardened --libdir=/usr/lib/x86_64-linux-gnu --incdir=/usr/include/x86_64-linux-gnu --enable-gpl --disable-stripping --enable-avresample --enable-avisynth --enable-gnutls --enable-ladspa --enable-libass --enable-libbluray --enable-libbs2b --enable-libcaca --enable-libcdio --enable-libflite --enable-libfontconfig --enable-libfreetype --enable-libfribidi --enable-libgme --enable-libgsm --enable-libmp3lame --enable-libmysofa --enable-libopenjpeg --enable-libopenmpt --enable-libopus --enable-libpulse --enable-librubberband --enable-librsvg --enable-libshine --enable-libsnappy --enable-libsoxr --enable-libspeex --enable-libssh --enable-libtheora --enable-libtwolame --enable-libvorbis --enable-libvpx --enable-libwavpack --enable-libwebp --enable-libx265 --enable-libxml2 --enable-libxvid --enable-libzmq --enable-libzvbi --enable-omx --enable-openal --enable-opengl --enable-sdl2 --enable-libdc1394 --enable-libdrm --enable-libiec61883 --enable-chromaprint --enable-frei0r --enable-libopencv --enable-libx264 --enable-shared\n",
      "  libavutil      55. 78.100 / 55. 78.100\n",
      "  libavcodec     57.107.100 / 57.107.100\n",
      "  libavformat    57. 83.100 / 57. 83.100\n",
      "  libavdevice    57. 10.100 / 57. 10.100\n",
      "  libavfilter     6.107.100 /  6.107.100\n",
      "  libavresample   3.  7.  0 /  3.  7.  0\n",
      "  libswscale      4.  8.100 /  4.  8.100\n",
      "  libswresample   2.  9.100 /  2.  9.100\n",
      "  libpostproc    54.  7.100 / 54.  7.100\n",
      "Input #0, mov,mp4,m4a,3gp,3g2,mj2, from 'video/input.mp4':\n",
      "  Metadata:\n",
      "    major_brand     : isom\n",
      "    minor_version   : 512\n",
      "    compatible_brands: isomiso2avc1mp41\n",
      "    encoder         : Lavf57.83.100\n",
      "  Duration: 00:01:07.77, start: 0.000000, bitrate: 2861 kb/s\n",
      "    Stream #0:0(und): Video: h264 (High) (avc1 / 0x31637661), yuvj420p(pc), 640x480 [SAR 1:1 DAR 4:3], 2691 kb/s, 23.98 fps, 23.98 tbr, 19184 tbn, 47.96 tbc (default)\n",
      "    Metadata:\n",
      "      handler_name    : VideoHandler\n",
      "    Stream #0:1(und): Audio: aac (LC) (mp4a / 0x6134706D), 44100 Hz, stereo, fltp, 164 kb/s (default)\n",
      "    Metadata:\n",
      "      handler_name    : SoundHandler\n",
      "Stream mapping:\n",
      "  Stream #0:0 -> #0:0 (h264 (native) -> png (native))\n",
      "Press [q] to stop, [?] for help\n",
      "\u001b[1;34m[swscaler @ 0x5572875ef160] \u001b[0m\u001b[0;33mdeprecated pixel format used, make sure you did set range correctly\n",
      "\u001b[0mOutput #0, image2, to 'DAIN/frames/input_frames/%05d.png':\n",
      "  Metadata:\n",
      "    major_brand     : isom\n",
      "    minor_version   : 512\n",
      "    compatible_brands: isomiso2avc1mp41\n",
      "    encoder         : Lavf57.83.100\n",
      "    Stream #0:0(und): Video: png, rgb24, 640x480 [SAR 1:1 DAR 4:3], q=2-31, 200 kb/s, 23.98 fps, 23.98 tbn, 23.98 tbc (default)\n",
      "    Metadata:\n",
      "      handler_name    : VideoHandler\n",
      "      encoder         : Lavc57.107.100 png\n",
      "frame= 1625 fps=154 q=-0.0 Lsize=N/A time=00:01:07.76 bitrate=N/A speed=6.41x    \n",
      "video:835697kB audio:0kB subtitle:0kB other streams:0kB global headers:0kB muxing overhead: unknown\n"
     ]
    }
   ],
   "source": [
    "# ffmpeg extract - Generating individual frame PNGs from the source file.\n",
    "! ffmpeg -i 'video/{filename}' 'DAIN/{FRAME_INPUT_DIR}/%05d.png'"
   ]
  },
  {
   "cell_type": "code",
   "execution_count": 9,
   "metadata": {},
   "outputs": [
    {
     "name": "stdout",
     "output_type": "stream",
     "text": [
      "1625\n"
     ]
    }
   ],
   "source": [
    "! ls 'DAIN/{FRAME_INPUT_DIR}' | wc -l"
   ]
  },
  {
   "cell_type": "code",
   "execution_count": 10,
   "metadata": {
    "colab": {},
    "colab_type": "code",
    "id": "9YNva-GuKq4Y"
   },
   "outputs": [
    {
     "name": "stdout",
     "output_type": "stream",
     "text": [
      "Input FPS: 23.98\n",
      "1625 frame PNGs generated.\n",
      "/notebooks/DAIN/frames/input_frames\n",
      "srgb detected\n",
      "/notebooks/DAIN\n"
     ]
    }
   ],
   "source": [
    "%cd DAIN/\n",
    "from IPython.display import clear_output\n",
    "clear_output()\n",
    "\n",
    "pngs_generated_count = 1625\n",
    "\n",
    "import shutil\n",
    "if SEAMLESS==True:\n",
    "  pngs_generated_count += 1\n",
    "  original = str(FRAME_INPUT_DIR)+\"/00001.png\"\n",
    "  target = str(FRAME_INPUT_DIR)+\"/\"+str(pngs_generated_count).zfill(5)+\".png\"\n",
    "  shutil.copyfile(original, target)\n",
    "\n",
    "print(f\"Input FPS: {fps}\")\n",
    "print(f\"{pngs_generated_count} frame PNGs generated.\")\n",
    "\n",
    "# Checking if PNG do have alpha\n",
    "import subprocess as sp\n",
    "%cd {FRAME_INPUT_DIR}\n",
    "channels = sp.getoutput('identify -format %[channels] 00001.png')\n",
    "print (f\"{channels} detected\")\n",
    "\n",
    "# Removing alpha if detected\n",
    "if \"a\" in channels:\n",
    "  print(\"Alpha detected and will be removed.\")\n",
    "  print(sp.getoutput('find . -name \"*.png\" -exec convert \"{}\" -alpha off PNG24:\"{}\" \\;'))\n",
    "\n",
    "%cd ../../"
   ]
  },
  {
   "cell_type": "code",
   "execution_count": 11,
   "metadata": {},
   "outputs": [],
   "source": [
    "# Interpolation"
   ]
  },
  {
   "cell_type": "code",
   "execution_count": null,
   "metadata": {
    "colab": {},
    "colab_type": "code",
    "id": "W3rrE7L824gL"
   },
   "outputs": [
    {
     "name": "stdout",
     "output_type": "stream",
     "text": [
      "revise the unique id to a random numer 72979\n",
      "Namespace(SAVED_MODEL=None, alpha=[0.0, 1.0], arg='./model_weights/72979-Tue-Sep-15-19-49/args.txt', batch_size=1, channels=3, ctx_lr_coe=1.0, datasetName='Vimeo_90K_interp', datasetPath='', dataset_split=97, debug=False, depth_lr_coe=0.001, dtype=<class 'torch.cuda.FloatTensor'>, end_frame=1625, epsilon=1e-06, factor=0.2, filter_lr_coe=1.0, filter_size=4, flow_lr_coe=0.01, force=False, frame_input_dir='frames/input_frames', frame_output_dir='frames/output_frames', log='./model_weights/72979-Tue-Sep-15-19-49/log.txt', lr=0.002, netName='DAIN_slowmotion', no_date=False, numEpoch=100, occ_lr_coe=1.0, patience=5, rectify_lr=0.001, save_path='./model_weights/72979-Tue-Sep-15-19-49', save_which=1, seed=1, start_frame=1, time_step=0.39966666666666667, uid=None, use_cuda=True, use_cudnn=1, weight_decay=0, workers=8)\n",
      "cudnn is used\n",
      "Interpolate 1 frames\n",
      "****** Processed frame 1 | Time per frame (avg): 11.03s | Time left: 4:58:24.816595 ******************\n",
      "****** Processed frame 2 | Time per frame (avg): 5.99s | Time left: 2:41:59.706587 ******************\n",
      "****** Processed frame 3 | Time per frame (avg): 4.29s | Time left: 1:56:01.173567 ******************\n",
      "****** Processed frame 4 | Time per frame (avg): 3.44s | Time left: 1:33:01.049213 ******************\n",
      "****** Processed frame 5 | Time per frame (avg): 2.94s | Time left: 1:19:15.813046 ******************\n",
      "****** Processed frame 6 | Time per frame (avg): 2.60s | Time left: 1:10:05.285153 ******************\n",
      "****** Processed frame 7 | Time per frame (avg): 2.36s | Time left: 1:03:31.812333 ******************\n",
      "****** Processed frame 8 | Time per frame (avg): 2.17s | Time left: 0:58:35.906880 ******************\n",
      "****** Processed frame 9 | Time per frame (avg): 2.03s | Time left: 0:54:45.306583 ******************\n",
      "****** Processed frame 10 | Time per frame (avg): 1.92s | Time left: 0:51:40.760463 ******************\n",
      "****** Processed frame 11 | Time per frame (avg): 1.83s | Time left: 0:49:13.488133 ******************\n",
      "****** Processed frame 12 | Time per frame (avg): 1.75s | Time left: 0:47:08.929706 ******************\n",
      "****** Processed frame 13 | Time per frame (avg): 1.69s | Time left: 0:45:21.724174 ******************\n",
      "****** Processed frame 14 | Time per frame (avg): 1.63s | Time left: 0:43:50.867609 ******************\n",
      "****** Processed frame 15 | Time per frame (avg): 1.59s | Time left: 0:42:32.597323 ******************\n",
      "****** Processed frame 16 | Time per frame (avg): 1.54s | Time left: 0:41:23.306895 ******************\n",
      "****** Processed frame 17 | Time per frame (avg): 1.51s | Time left: 0:40:21.611579 ******************\n",
      "****** Processed frame 18 | Time per frame (avg): 1.47s | Time left: 0:39:26.529177 ******************\n",
      "****** Processed frame 19 | Time per frame (avg): 1.44s | Time left: 0:38:37.596433 ******************\n",
      "****** Processed frame 20 | Time per frame (avg): 1.42s | Time left: 0:37:53.266290 ******************\n",
      "****** Processed frame 21 | Time per frame (avg): 1.39s | Time left: 0:37:12.977868 ******************\n",
      "****** Processed frame 22 | Time per frame (avg): 1.37s | Time left: 0:36:36.404794 ******************\n",
      "****** Processed frame 23 | Time per frame (avg): 1.35s | Time left: 0:36:02.477886 ******************\n",
      "****** Processed frame 24 | Time per frame (avg): 1.33s | Time left: 0:35:31.253385 ******************\n",
      "****** Processed frame 25 | Time per frame (avg): 1.31s | Time left: 0:35:02.700562 ******************\n",
      "****** Processed frame 26 | Time per frame (avg): 1.30s | Time left: 0:34:37.474588 ******************\n",
      "****** Processed frame 27 | Time per frame (avg): 1.29s | Time left: 0:34:13.555695 ******************\n",
      "****** Processed frame 28 | Time per frame (avg): 1.27s | Time left: 0:33:51.294859 ******************\n",
      "****** Processed frame 29 | Time per frame (avg): 1.26s | Time left: 0:33:29.845742 ******************\n",
      "****** Processed frame 30 | Time per frame (avg): 1.25s | Time left: 0:33:10.393277 ******************\n",
      "****** Processed frame 31 | Time per frame (avg): 1.24s | Time left: 0:32:51.582642 ******************\n",
      "****** Processed frame 32 | Time per frame (avg): 1.23s | Time left: 0:32:34.038352 ******************\n",
      "****** Processed frame 33 | Time per frame (avg): 1.22s | Time left: 0:32:17.459239 ******************\n",
      "****** Processed frame 34 | Time per frame (avg): 1.21s | Time left: 0:32:01.852962 ******************\n",
      "****** Processed frame 35 | Time per frame (avg): 1.20s | Time left: 0:31:46.993539 ******************\n",
      "****** Processed frame 36 | Time per frame (avg): 1.19s | Time left: 0:31:32.886715 ******************\n",
      "****** Processed frame 37 | Time per frame (avg): 1.18s | Time left: 0:31:19.708561 ******************\n",
      "****** Processed frame 38 | Time per frame (avg): 1.18s | Time left: 0:31:07.051025 ******************\n",
      "****** Processed frame 39 | Time per frame (avg): 1.17s | Time left: 0:30:54.925958 ******************\n",
      "****** Processed frame 40 | Time per frame (avg): 1.16s | Time left: 0:30:43.349151 ******************\n",
      "****** Processed frame 41 | Time per frame (avg): 1.16s | Time left: 0:30:32.462505 ******************\n",
      "****** Processed frame 42 | Time per frame (avg): 1.15s | Time left: 0:30:22.043802 ******************\n",
      "****** Processed frame 43 | Time per frame (avg): 1.15s | Time left: 0:30:11.845662 ******************\n",
      "****** Processed frame 44 | Time per frame (avg): 1.14s | Time left: 0:30:02.186109 ******************\n",
      "****** Processed frame 45 | Time per frame (avg): 1.13s | Time left: 0:29:52.801936 ******************\n",
      "****** Processed frame 46 | Time per frame (avg): 1.13s | Time left: 0:29:43.815774 ******************\n",
      "****** Processed frame 47 | Time per frame (avg): 1.12s | Time left: 0:29:35.201139 ******************\n",
      "****** Processed frame 48 | Time per frame (avg): 1.12s | Time left: 0:29:26.796976 ******************\n",
      "****** Processed frame 49 | Time per frame (avg): 1.12s | Time left: 0:29:18.783702 ******************\n",
      "****** Processed frame 50 | Time per frame (avg): 1.11s | Time left: 0:29:11.121256 ******************\n",
      "****** Processed frame 51 | Time per frame (avg): 1.11s | Time left: 0:29:03.861101 ******************\n",
      "****** Processed frame 52 | Time per frame (avg): 1.10s | Time left: 0:28:56.644930 ******************\n",
      "****** Processed frame 53 | Time per frame (avg): 1.10s | Time left: 0:28:49.726959 ******************\n",
      "****** Processed frame 54 | Time per frame (avg): 1.10s | Time left: 0:28:43.004008 ******************\n",
      "****** Processed frame 55 | Time per frame (avg): 1.09s | Time left: 0:28:36.511613 ******************\n"
     ]
    }
   ],
   "source": [
    "!python -W ignore colab_interpolate.py --netName DAIN_slowmotion --time_step {fps/TARGET_FPS} --start_frame 1 --end_frame {pngs_generated_count} --frame_input_dir '{FRAME_INPUT_DIR}' --frame_output_dir '{FRAME_OUTPUT_DIR}'"
   ]
  },
  {
   "cell_type": "code",
   "execution_count": null,
   "metadata": {
    "colab": {},
    "colab_type": "code",
    "id": "xPYewi8jsq_B"
   },
   "outputs": [],
   "source": [
    "# Finding DAIN Frames, upscaling and cropping to match original\n",
    "import numpy as np\n",
    "if(RESIZE_HOTFIX==True):\n",
    "  images = []\n",
    "  for filename in os.listdir(f'{FRAME_OUTPUT_DIR}'):\n",
    "    img = cv2.imread(os.path.join(f'{FRAME_OUTPUT_DIR}',filename))\n",
    "    part_filename = os.path.splitext(filename)\n",
    "    if(part_filename[0].endswith('0')==False):\n",
    "      dimension = (img.shape[1]+2, img.shape[0]+2)\n",
    "      resized = cv2.resize(img, dimension, interpolation=cv2.INTER_LANCZOS4)\n",
    "      crop = resized[1:(dimension[1]-1), 1:(dimension[0]-1)]\n",
    "      ns = str(f'{FRAME_OUTPUT_DIR}/')+part_filename[0]+\".png\"\n",
    "      print(ns)\n",
    "      cv2.imwrite(ns, crop)"
   ]
  },
  {
   "cell_type": "code",
   "execution_count": null,
   "metadata": {},
   "outputs": [],
   "source": [
    "from tqdm.notebook import tqdm"
   ]
  },
  {
   "cell_type": "code",
   "execution_count": null,
   "metadata": {},
   "outputs": [],
   "source": [
    "def img2video(read_path,save_path):\n",
    "    print(read_path,save_path)\n",
    "    files = []\n",
    "    for r, _, f in os.walk(read_path):\n",
    "        for file in f:\n",
    "            if '.png' in file:\n",
    "                files.append([os.path.join(r, file),file.replace(\".png\",\"\")])\n",
    "    print(\"\")\n",
    "    files.sort(key=lambda x: int(x[1]))\n",
    "    img = cv2.imread(files[0][0])\n",
    "    height, width, _ = img.shape\n",
    "    size = (width,height)\n",
    "    print(\"VidSize: \",str(size))\n",
    "    print(\"\")\n",
    "    #-----------------------------------------------\n",
    "    out = cv2.VideoWriter(save_path+\"reconstucted.mp4\",cv2.VideoWriter_fourcc(*'mp4v'), 60, size)\n",
    "\n",
    "    for file in tqdm(range(len(files))):\n",
    "        path = files[file][0]\n",
    "        img = cv2.imread(path)\n",
    "        out.write(img)\n",
    "    out.release()\n",
    "    "
   ]
  },
  {
   "cell_type": "code",
   "execution_count": null,
   "metadata": {},
   "outputs": [],
   "source": [
    "!ls"
   ]
  },
  {
   "cell_type": "code",
   "execution_count": null,
   "metadata": {},
   "outputs": [],
   "source": [
    "img2video(FRAME_OUTPUT_DIR,'../'+str(OUTPUT_FILE_PATH))"
   ]
  },
  {
   "cell_type": "code",
   "execution_count": null,
   "metadata": {},
   "outputs": [],
   "source": []
  }
 ],
 "metadata": {
  "accelerator": "GPU",
  "colab": {
   "collapsed_sections": [],
   "name": "Colab_DAIN.ipynb",
   "private_outputs": true,
   "provenance": [],
   "toc_visible": true
  },
  "kernelspec": {
   "display_name": "Python 3",
   "language": "python",
   "name": "python3"
  },
  "language_info": {
   "codemirror_mode": {
    "name": "ipython",
    "version": 3
   },
   "file_extension": ".py",
   "mimetype": "text/x-python",
   "name": "python",
   "nbconvert_exporter": "python",
   "pygments_lexer": "ipython3",
   "version": "3.6.8"
  }
 },
 "nbformat": 4,
 "nbformat_minor": 4
}
