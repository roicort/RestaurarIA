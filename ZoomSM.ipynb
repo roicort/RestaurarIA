{
 "cells": [
  {
   "cell_type": "markdown",
   "metadata": {},
   "source": [
    "# ZoomSM"
   ]
  },
  {
   "cell_type": "markdown",
   "metadata": {},
   "source": [
    "## Check GPU"
   ]
  },
  {
   "cell_type": "code",
   "execution_count": 1,
   "metadata": {},
   "outputs": [
    {
     "name": "stdout",
     "output_type": "stream",
     "text": [
      "name, driver_version, memory.total [MiB]\n",
      "Quadro P6000, 450.36.06, 24449 MiB\n"
     ]
    }
   ],
   "source": [
    "!nvidia-smi --query-gpu=gpu_name,driver_version,memory.total --format=csv"
   ]
  },
  {
   "cell_type": "markdown",
   "metadata": {},
   "source": [
    "## Installing dependencies"
   ]
  },
  {
   "cell_type": "code",
   "execution_count": 2,
   "metadata": {},
   "outputs": [
    {
     "name": "stdout",
     "output_type": "stream",
     "text": [
      "Collecting pip\n",
      "\u001b[?25l  Downloading https://files.pythonhosted.org/packages/4e/5f/528232275f6509b1fff703c9280e58951a81abe24640905de621c9f81839/pip-20.2.3-py2.py3-none-any.whl (1.5MB)\n",
      "\u001b[K     |████████████████████████████████| 1.5MB 9.8MB/s eta 0:00:01\n",
      "\u001b[?25hInstalling collected packages: pip\n",
      "  Found existing installation: pip 19.2.1\n",
      "    Uninstalling pip-19.2.1:\n",
      "      Successfully uninstalled pip-19.2.1\n",
      "Successfully installed pip-20.2.3\n"
     ]
    }
   ],
   "source": [
    "!pip install --upgrade pip"
   ]
  },
  {
   "cell_type": "code",
   "execution_count": 3,
   "metadata": {},
   "outputs": [
    {
     "name": "stdout",
     "output_type": "stream",
     "text": [
      "Requirement already satisfied: numpy in /usr/local/lib/python3.6/dist-packages (1.17.0)\n",
      "Collecting opencv-python\n",
      "  Downloading opencv_python-4.4.0.44-cp36-cp36m-manylinux2014_x86_64.whl (49.5 MB)\n",
      "\u001b[K     |████████████████████████████████| 49.5 MB 68.4 MB/s eta 0:00:01\n",
      "\u001b[?25hCollecting lmdb\n",
      "  Downloading lmdb-1.0.0.tar.gz (876 kB)\n",
      "\u001b[K     |████████████████████████████████| 876 kB 50.9 MB/s eta 0:00:01     |███████████▋                    | 317 kB 50.9 MB/s eta 0:00:01\n",
      "\u001b[?25hRequirement already satisfied: pyyaml in /usr/local/lib/python3.6/dist-packages (5.1.2)\n",
      "Collecting pickle5\n",
      "  Downloading pickle5-0.0.11.tar.gz (132 kB)\n",
      "\u001b[K     |████████████████████████████████| 132 kB 8.9 MB/s eta 0:00:01\n",
      "\u001b[?25hRequirement already satisfied: matplotlib in /usr/local/lib/python3.6/dist-packages (3.1.1)\n",
      "Collecting seaborn\n",
      "  Downloading seaborn-0.11.0-py3-none-any.whl (283 kB)\n",
      "\u001b[K     |████████████████████████████████| 283 kB 35.9 MB/s eta 0:00:01\n",
      "\u001b[?25hCollecting tqdm\n",
      "  Downloading tqdm-4.49.0-py2.py3-none-any.whl (69 kB)\n",
      "\u001b[K     |████████████████████████████████| 69 kB 8.3 MB/s  eta 0:00:01\n",
      "\u001b[?25hRequirement already satisfied: kiwisolver>=1.0.1 in /usr/local/lib/python3.6/dist-packages (from matplotlib) (1.1.0)\n",
      "Requirement already satisfied: python-dateutil>=2.1 in /usr/local/lib/python3.6/dist-packages (from matplotlib) (2.8.0)\n",
      "Requirement already satisfied: cycler>=0.10 in /usr/local/lib/python3.6/dist-packages (from matplotlib) (0.10.0)\n",
      "Requirement already satisfied: pyparsing!=2.0.4,!=2.1.2,!=2.1.6,>=2.0.1 in /usr/local/lib/python3.6/dist-packages (from matplotlib) (2.4.2)\n",
      "Requirement already satisfied: scipy>=1.0 in /usr/local/lib/python3.6/dist-packages (from seaborn) (1.3.0)\n",
      "Requirement already satisfied: pandas>=0.23 in /usr/local/lib/python3.6/dist-packages (from seaborn) (0.25.0)\n",
      "Requirement already satisfied: setuptools in /usr/local/lib/python3.6/dist-packages (from kiwisolver>=1.0.1->matplotlib) (41.0.1)\n",
      "Requirement already satisfied: six>=1.5 in /usr/local/lib/python3.6/dist-packages (from python-dateutil>=2.1->matplotlib) (1.12.0)\n",
      "Requirement already satisfied: pytz>=2017.2 in /usr/local/lib/python3.6/dist-packages (from pandas>=0.23->seaborn) (2019.2)\n",
      "Building wheels for collected packages: lmdb, pickle5\n",
      "  Building wheel for lmdb (setup.py) ... \u001b[?25ldone\n",
      "\u001b[?25h  Created wheel for lmdb: filename=lmdb-1.0.0-cp36-cp36m-linux_x86_64.whl size=221214 sha256=8b87dc0ed92c3adde63ee87dc4f9b3dde156960a493903b9b2c8e061577d3d87\n",
      "  Stored in directory: /root/.cache/pip/wheels/f7/c0/90/349862eab66c0e0fc1644577c75af1d7c46465e571c437bb89\n",
      "  Building wheel for pickle5 (setup.py) ... \u001b[?25ldone\n",
      "\u001b[?25h  Created wheel for pickle5: filename=pickle5-0.0.11-cp36-cp36m-linux_x86_64.whl size=218604 sha256=1921cb063858a1aa1c904f7bf32cbb50a86f8400002df5a6f8c79eb83242d934\n",
      "  Stored in directory: /root/.cache/pip/wheels/f9/b7/be/bf9768ab0daa28fa4b386f3ad1bac5dd4d9c349c60e83b24e3\n",
      "Successfully built lmdb pickle5\n",
      "Installing collected packages: opencv-python, lmdb, pickle5, seaborn, tqdm\n",
      "Successfully installed lmdb-1.0.0 opencv-python-4.4.0.44 pickle5-0.0.11 seaborn-0.11.0 tqdm-4.49.0\n"
     ]
    }
   ],
   "source": [
    "!pip install numpy opencv-python lmdb pyyaml pickle5 matplotlib seaborn tqdm"
   ]
  },
  {
   "cell_type": "code",
   "execution_count": 4,
   "metadata": {},
   "outputs": [
    {
     "name": "stdout",
     "output_type": "stream",
     "text": [
      "Cloning into 'Zooming-Slow-Mo-CVPR-2020'...\n",
      "remote: Enumerating objects: 6, done.\u001b[K\n",
      "remote: Counting objects: 100% (6/6), done.\u001b[K\n",
      "remote: Compressing objects: 100% (6/6), done.\u001b[K\n",
      "remote: Total 239 (delta 1), reused 0 (delta 0), pack-reused 233\u001b[K\n",
      "Receiving objects: 100% (239/239), 63.24 MiB | 6.69 MiB/s, done.\n",
      "Resolving deltas: 100% (88/88), done.\n"
     ]
    }
   ],
   "source": [
    "!git clone --recursive https://github.com/Mukosame/Zooming-Slow-Mo-CVPR-2020.git"
   ]
  },
  {
   "cell_type": "code",
   "execution_count": 5,
   "metadata": {},
   "outputs": [
    {
     "name": "stdout",
     "output_type": "stream",
     "text": [
      "ZoomSM.ipynb  datasets\tstorage  zooming\n"
     ]
    }
   ],
   "source": [
    "!ls"
   ]
  },
  {
   "cell_type": "code",
   "execution_count": 6,
   "metadata": {},
   "outputs": [
    {
     "name": "stdout",
     "output_type": "stream",
     "text": [
      "/notebooks/zooming/codes/models/modules/DCNv2\n",
      "running build\n",
      "running build_ext\n",
      "building '_ext' extension\n",
      "creating build\n",
      "creating build/temp.linux-x86_64-3.6\n",
      "creating build/temp.linux-x86_64-3.6/notebooks\n",
      "creating build/temp.linux-x86_64-3.6/notebooks/zooming\n",
      "creating build/temp.linux-x86_64-3.6/notebooks/zooming/codes\n",
      "creating build/temp.linux-x86_64-3.6/notebooks/zooming/codes/models\n",
      "creating build/temp.linux-x86_64-3.6/notebooks/zooming/codes/models/modules\n",
      "creating build/temp.linux-x86_64-3.6/notebooks/zooming/codes/models/modules/DCNv2\n",
      "creating build/temp.linux-x86_64-3.6/notebooks/zooming/codes/models/modules/DCNv2/src\n",
      "creating build/temp.linux-x86_64-3.6/notebooks/zooming/codes/models/modules/DCNv2/src/cpu\n",
      "creating build/temp.linux-x86_64-3.6/notebooks/zooming/codes/models/modules/DCNv2/src/cuda\n",
      "x86_64-linux-gnu-gcc -pthread -DNDEBUG -g -fwrapv -O2 -Wall -g -fstack-protector-strong -Wformat -Werror=format-security -Wdate-time -D_FORTIFY_SOURCE=2 -fPIC -DWITH_CUDA -I/notebooks/zooming/codes/models/modules/DCNv2/src -I/usr/local/lib/python3.6/dist-packages/torch/include -I/usr/local/lib/python3.6/dist-packages/torch/include/torch/csrc/api/include -I/usr/local/lib/python3.6/dist-packages/torch/include/TH -I/usr/local/lib/python3.6/dist-packages/torch/include/THC -I/usr/local/cuda/include -I/usr/include/python3.6m -c /notebooks/zooming/codes/models/modules/DCNv2/src/vision.cpp -o build/temp.linux-x86_64-3.6/notebooks/zooming/codes/models/modules/DCNv2/src/vision.o -DTORCH_API_INCLUDE_EXTENSION_H -DTORCH_EXTENSION_NAME=_ext -D_GLIBCXX_USE_CXX11_ABI=0 -std=c++11\n",
      "x86_64-linux-gnu-gcc -pthread -DNDEBUG -g -fwrapv -O2 -Wall -g -fstack-protector-strong -Wformat -Werror=format-security -Wdate-time -D_FORTIFY_SOURCE=2 -fPIC -DWITH_CUDA -I/notebooks/zooming/codes/models/modules/DCNv2/src -I/usr/local/lib/python3.6/dist-packages/torch/include -I/usr/local/lib/python3.6/dist-packages/torch/include/torch/csrc/api/include -I/usr/local/lib/python3.6/dist-packages/torch/include/TH -I/usr/local/lib/python3.6/dist-packages/torch/include/THC -I/usr/local/cuda/include -I/usr/include/python3.6m -c /notebooks/zooming/codes/models/modules/DCNv2/src/cpu/dcn_v2_cpu.cpp -o build/temp.linux-x86_64-3.6/notebooks/zooming/codes/models/modules/DCNv2/src/cpu/dcn_v2_cpu.o -DTORCH_API_INCLUDE_EXTENSION_H -DTORCH_EXTENSION_NAME=_ext -D_GLIBCXX_USE_CXX11_ABI=0 -std=c++11\n",
      "/usr/local/cuda/bin/nvcc -DWITH_CUDA -I/notebooks/zooming/codes/models/modules/DCNv2/src -I/usr/local/lib/python3.6/dist-packages/torch/include -I/usr/local/lib/python3.6/dist-packages/torch/include/torch/csrc/api/include -I/usr/local/lib/python3.6/dist-packages/torch/include/TH -I/usr/local/lib/python3.6/dist-packages/torch/include/THC -I/usr/local/cuda/include -I/usr/include/python3.6m -c /notebooks/zooming/codes/models/modules/DCNv2/src/cuda/dcn_v2_cuda.cu -o build/temp.linux-x86_64-3.6/notebooks/zooming/codes/models/modules/DCNv2/src/cuda/dcn_v2_cuda.o -D__CUDA_NO_HALF_OPERATORS__ -D__CUDA_NO_HALF_CONVERSIONS__ -D__CUDA_NO_HALF2_OPERATORS__ --expt-relaxed-constexpr --compiler-options '-fPIC' -DCUDA_HAS_FP16=1 -D__CUDA_NO_HALF_OPERATORS__ -D__CUDA_NO_HALF_CONVERSIONS__ -D__CUDA_NO_HALF2_OPERATORS__ -DTORCH_API_INCLUDE_EXTENSION_H -DTORCH_EXTENSION_NAME=_ext -D_GLIBCXX_USE_CXX11_ABI=0 -std=c++11\n",
      "/usr/local/cuda/bin/nvcc -DWITH_CUDA -I/notebooks/zooming/codes/models/modules/DCNv2/src -I/usr/local/lib/python3.6/dist-packages/torch/include -I/usr/local/lib/python3.6/dist-packages/torch/include/torch/csrc/api/include -I/usr/local/lib/python3.6/dist-packages/torch/include/TH -I/usr/local/lib/python3.6/dist-packages/torch/include/THC -I/usr/local/cuda/include -I/usr/include/python3.6m -c /notebooks/zooming/codes/models/modules/DCNv2/src/cuda/dcn_v2_im2col_cuda.cu -o build/temp.linux-x86_64-3.6/notebooks/zooming/codes/models/modules/DCNv2/src/cuda/dcn_v2_im2col_cuda.o -D__CUDA_NO_HALF_OPERATORS__ -D__CUDA_NO_HALF_CONVERSIONS__ -D__CUDA_NO_HALF2_OPERATORS__ --expt-relaxed-constexpr --compiler-options '-fPIC' -DCUDA_HAS_FP16=1 -D__CUDA_NO_HALF_OPERATORS__ -D__CUDA_NO_HALF_CONVERSIONS__ -D__CUDA_NO_HALF2_OPERATORS__ -DTORCH_API_INCLUDE_EXTENSION_H -DTORCH_EXTENSION_NAME=_ext -D_GLIBCXX_USE_CXX11_ABI=0 -std=c++11\n",
      "/usr/local/cuda/bin/nvcc -DWITH_CUDA -I/notebooks/zooming/codes/models/modules/DCNv2/src -I/usr/local/lib/python3.6/dist-packages/torch/include -I/usr/local/lib/python3.6/dist-packages/torch/include/torch/csrc/api/include -I/usr/local/lib/python3.6/dist-packages/torch/include/TH -I/usr/local/lib/python3.6/dist-packages/torch/include/THC -I/usr/local/cuda/include -I/usr/include/python3.6m -c /notebooks/zooming/codes/models/modules/DCNv2/src/cuda/dcn_v2_psroi_pooling_cuda.cu -o build/temp.linux-x86_64-3.6/notebooks/zooming/codes/models/modules/DCNv2/src/cuda/dcn_v2_psroi_pooling_cuda.o -D__CUDA_NO_HALF_OPERATORS__ -D__CUDA_NO_HALF_CONVERSIONS__ -D__CUDA_NO_HALF2_OPERATORS__ --expt-relaxed-constexpr --compiler-options '-fPIC' -DCUDA_HAS_FP16=1 -D__CUDA_NO_HALF_OPERATORS__ -D__CUDA_NO_HALF_CONVERSIONS__ -D__CUDA_NO_HALF2_OPERATORS__ -DTORCH_API_INCLUDE_EXTENSION_H -DTORCH_EXTENSION_NAME=_ext -D_GLIBCXX_USE_CXX11_ABI=0 -std=c++11\n",
      "\u001b[01m\u001b[K/notebooks/zooming/codes/models/modules/DCNv2/src/cuda/dcn_v2_psroi_pooling_cuda.cu:\u001b[m\u001b[K In lambda function:\n",
      "\u001b[01m\u001b[K/notebooks/zooming/codes/models/modules/DCNv2/src/cuda/dcn_v2_psroi_pooling_cuda.cu:317:98:\u001b[m\u001b[K \u001b[01;35m\u001b[Kwarning: \u001b[m\u001b[K‘\u001b[01m\u001b[Kc10::ScalarType detail::scalar_type(const at::DeprecatedTypeProperties&)\u001b[m\u001b[K’ is deprecated [\u001b[01;35m\u001b[K-Wdeprecated-declarations\u001b[m\u001b[K]\n",
      "   AT_DISPATCH_FLOATING_TYPES(input.type(), \"dcn_v2_psroi_pooling_cuda_forward\", [&] {\n",
      "                                                                                                  \u001b[01;35m\u001b[K^\u001b[m\u001b[K\n",
      "\u001b[01m\u001b[K/usr/local/lib/python3.6/dist-packages/torch/include/ATen/Dispatch.h:78:1:\u001b[m\u001b[K \u001b[01;36m\u001b[Knote: \u001b[m\u001b[Kdeclared here\n",
      " \u001b[01;36m\u001b[Kinline at::\u001b[m\u001b[KScalarType scalar_type(const at::DeprecatedTypeProperties &t) {\n",
      " \u001b[01;36m\u001b[K^~~~~~~~~~~\u001b[m\u001b[K\n",
      "\u001b[01m\u001b[K/notebooks/zooming/codes/models/modules/DCNv2/src/cuda/dcn_v2_psroi_pooling_cuda.cu:\u001b[m\u001b[K In lambda function:\n",
      "\u001b[01m\u001b[K/notebooks/zooming/codes/models/modules/DCNv2/src/cuda/dcn_v2_psroi_pooling_cuda.cu:391:101:\u001b[m\u001b[K \u001b[01;35m\u001b[Kwarning: \u001b[m\u001b[K‘\u001b[01m\u001b[Kc10::ScalarType detail::scalar_type(const at::DeprecatedTypeProperties&)\u001b[m\u001b[K’ is deprecated [\u001b[01;35m\u001b[K-Wdeprecated-declarations\u001b[m\u001b[K]\n",
      "   AT_DISPATCH_FLOATING_TYPES(out_grad.type(), \"dcn_v2_psroi_pooling_cuda_backward\", [&] {\n",
      "                                                                                                     \u001b[01;35m\u001b[K^\u001b[m\u001b[K\n",
      "\u001b[01m\u001b[K/usr/local/lib/python3.6/dist-packages/torch/include/ATen/Dispatch.h:78:1:\u001b[m\u001b[K \u001b[01;36m\u001b[Knote: \u001b[m\u001b[Kdeclared here\n",
      " \u001b[01;36m\u001b[Kinline at::\u001b[m\u001b[KScalarType scalar_type(const at::DeprecatedTypeProperties &t) {\n",
      " \u001b[01;36m\u001b[K^~~~~~~~~~~\u001b[m\u001b[K\n",
      "creating build/lib.linux-x86_64-3.6\n",
      "x86_64-linux-gnu-g++ -pthread -shared -Wl,-O1 -Wl,-Bsymbolic-functions -Wl,-Bsymbolic-functions -Wl,-z,relro -Wl,-Bsymbolic-functions -Wl,-z,relro -g -fstack-protector-strong -Wformat -Werror=format-security -Wdate-time -D_FORTIFY_SOURCE=2 build/temp.linux-x86_64-3.6/notebooks/zooming/codes/models/modules/DCNv2/src/vision.o build/temp.linux-x86_64-3.6/notebooks/zooming/codes/models/modules/DCNv2/src/cpu/dcn_v2_cpu.o build/temp.linux-x86_64-3.6/notebooks/zooming/codes/models/modules/DCNv2/src/cuda/dcn_v2_cuda.o build/temp.linux-x86_64-3.6/notebooks/zooming/codes/models/modules/DCNv2/src/cuda/dcn_v2_im2col_cuda.o build/temp.linux-x86_64-3.6/notebooks/zooming/codes/models/modules/DCNv2/src/cuda/dcn_v2_psroi_pooling_cuda.o -L/usr/local/cuda/lib64 -lcudart -o build/lib.linux-x86_64-3.6/_ext.cpython-36m-x86_64-linux-gnu.so\n",
      "running develop\n",
      "running egg_info\n",
      "creating DCNv2.egg-info\n",
      "writing DCNv2.egg-info/PKG-INFO\n",
      "writing dependency_links to DCNv2.egg-info/dependency_links.txt\n",
      "writing top-level names to DCNv2.egg-info/top_level.txt\n",
      "writing manifest file 'DCNv2.egg-info/SOURCES.txt'\n",
      "reading manifest file 'DCNv2.egg-info/SOURCES.txt'\n",
      "writing manifest file 'DCNv2.egg-info/SOURCES.txt'\n",
      "running build_ext\n",
      "copying build/lib.linux-x86_64-3.6/_ext.cpython-36m-x86_64-linux-gnu.so -> \n",
      "Creating /usr/local/lib/python3.6/dist-packages/DCNv2.egg-link (link to .)\n",
      "Adding DCNv2 0.1 to easy-install.pth file\n",
      "\n",
      "Installed /notebooks/zooming/codes/models/modules/DCNv2\n",
      "Processing dependencies for DCNv2==0.1\n",
      "Finished processing dependencies for DCNv2==0.1\n",
      "torch.Size([2, 64, 128, 128])\n",
      "torch.Size([20, 32, 7, 7])\n",
      "torch.Size([20, 32, 7, 7])\n",
      "torch.Size([20, 32, 7, 7])\n",
      "0.971507, 1.943014\n",
      "0.971507, 1.943014\n",
      "Zero offset passed\n",
      "/usr/local/lib/python3.6/dist-packages/torch/autograd/gradcheck.py:242: UserWarning: At least one of the inputs that requires gradient is not of double precision floating point. This check will likely fail if all the inputs are not of double precision floating point. \n",
      "  'At least one of the inputs that requires gradient '\n",
      "check_gradient_dpooling: True\n",
      "Traceback (most recent call last):\n",
      "  File \"test.py\", line 265, in <module>\n",
      "    check_gradient_dconv()\n",
      "  File \"test.py\", line 97, in check_gradient_dconv\n",
      "    eps=1e-3, atol=1e-4, rtol=1e-2))\n",
      "  File \"/usr/local/lib/python3.6/dist-packages/torch/autograd/gradcheck.py\", line 295, in gradcheck\n",
      "    'The tolerance for nondeterminism was {}.'.format(nondet_tol))\n",
      "  File \"/usr/local/lib/python3.6/dist-packages/torch/autograd/gradcheck.py\", line 227, in fail_test\n",
      "    raise RuntimeError(msg)\n",
      "RuntimeError: Backward is not reentrant, i.e., running backward with same input and grad_output multiple times gives different values, although analytical gradient matches numerical gradient. The tolerance for nondeterminism was 0.0.\n",
      "/notebooks\n"
     ]
    }
   ],
   "source": [
    "%cd zooming/codes/models/modules/DCNv2\n",
    "!bash make.sh         # build\n",
    "!python test.py    # run examples and gradient check \n",
    "%cd ../../../../.."
   ]
  },
  {
   "cell_type": "code",
   "execution_count": 7,
   "metadata": {},
   "outputs": [],
   "source": [
    "# run on terminal"
   ]
  },
  {
   "cell_type": "code",
   "execution_count": null,
   "metadata": {},
   "outputs": [],
   "source": [
    "apt-get update"
   ]
  },
  {
   "cell_type": "code",
   "execution_count": null,
   "metadata": {},
   "outputs": [],
   "source": [
    "apt-get install libgl1-mesa-glx ffmpeg"
   ]
  },
  {
   "cell_type": "markdown",
   "metadata": {},
   "source": [
    "## Variables"
   ]
  },
  {
   "cell_type": "code",
   "execution_count": 1,
   "metadata": {},
   "outputs": [],
   "source": [
    "################# Required Configurations ############################\n",
    "\n",
    "INPUT_FILEPATH = \"olvidados.mp4\" #param{type:\"string\"}\n",
    "\n",
    "OUTPUT_FILEPATH = \"olvidados60.mp4\" #param{type:\"string\"}\n",
    "\n",
    "pretrainedpath = \"zooming/experiments/pretrained_models/xiang2020zooming.pth\" #param{type:\"string\"}"
   ]
  },
  {
   "cell_type": "code",
   "execution_count": 2,
   "metadata": {},
   "outputs": [
    {
     "name": "stdout",
     "output_type": "stream",
     "text": [
      "ffmpeg -i olvidados.mp4 -vsync 0 .delme/%06d.png\n",
      "ffmpeg version 3.4.8-0ubuntu0.2 Copyright (c) 2000-2020 the FFmpeg developers\n",
      "  built with gcc 7 (Ubuntu 7.5.0-3ubuntu1~18.04)\n",
      "  configuration: --prefix=/usr --extra-version=0ubuntu0.2 --toolchain=hardened --libdir=/usr/lib/x86_64-linux-gnu --incdir=/usr/include/x86_64-linux-gnu --enable-gpl --disable-stripping --enable-avresample --enable-avisynth --enable-gnutls --enable-ladspa --enable-libass --enable-libbluray --enable-libbs2b --enable-libcaca --enable-libcdio --enable-libflite --enable-libfontconfig --enable-libfreetype --enable-libfribidi --enable-libgme --enable-libgsm --enable-libmp3lame --enable-libmysofa --enable-libopenjpeg --enable-libopenmpt --enable-libopus --enable-libpulse --enable-librubberband --enable-librsvg --enable-libshine --enable-libsnappy --enable-libsoxr --enable-libspeex --enable-libssh --enable-libtheora --enable-libtwolame --enable-libvorbis --enable-libvpx --enable-libwavpack --enable-libwebp --enable-libx265 --enable-libxml2 --enable-libxvid --enable-libzmq --enable-libzvbi --enable-omx --enable-openal --enable-opengl --enable-sdl2 --enable-libdc1394 --enable-libdrm --enable-libiec61883 --enable-chromaprint --enable-frei0r --enable-libopencv --enable-libx264 --enable-shared\n",
      "  libavutil      55. 78.100 / 55. 78.100\n",
      "  libavcodec     57.107.100 / 57.107.100\n",
      "  libavformat    57. 83.100 / 57. 83.100\n",
      "  libavdevice    57. 10.100 / 57. 10.100\n",
      "  libavfilter     6.107.100 /  6.107.100\n",
      "  libavresample   3.  7.  0 /  3.  7.  0\n",
      "  libswscale      4.  8.100 /  4.  8.100\n",
      "  libswresample   2.  9.100 /  2.  9.100\n",
      "  libpostproc    54.  7.100 / 54.  7.100\n",
      "Input #0, mov,mp4,m4a,3gp,3g2,mj2, from 'olvidados.mp4':\n",
      "  Metadata:\n",
      "    major_brand     : mp42\n",
      "    minor_version   : 1\n",
      "    compatible_brands: isommp41mp42\n",
      "    creation_time   : 2020-09-15T20:32:55.000000Z\n",
      "  Duration: 00:01:21.56, start: -0.016054, bitrate: 918 kb/s\n",
      "    Stream #0:0(und): Video: h264 (Constrained Baseline) (avc1 / 0x31637661), yuv420p, 640x480 [SAR 51:50 DAR 34:25], 766 kb/s, 23.98 fps, 23.98 tbr, 19184 tbn, 47.96 tbc (default)\n",
      "    Metadata:\n",
      "      creation_time   : 2020-09-15T20:32:55.000000Z\n",
      "      handler_name    : Core Media Video\n",
      "    Stream #0:1(und): Audio: aac (LC) (mp4a / 0x6134706D), 44100 Hz, stereo, fltp, 127 kb/s (default)\n",
      "    Metadata:\n",
      "      creation_time   : 2020-09-15T20:32:55.000000Z\n",
      "      handler_name    : Core Media Audio\n",
      "Stream mapping:\n",
      "  Stream #0:0 -> #0:0 (h264 (native) -> png (native))\n",
      "Press [q] to stop, [?] for help\n",
      "Output #0, image2, to '.delme/%06d.png':\n",
      "  Metadata:\n",
      "    major_brand     : mp42\n",
      "    minor_version   : 1\n",
      "    compatible_brands: isommp41mp42\n",
      "    encoder         : Lavf57.83.100\n",
      "    Stream #0:0(und): Video: png, rgb24, 640x480 [SAR 51:50 DAR 34:25], q=2-31, 200 kb/s, 23.98 fps, 23.98 tbn, 23.98 tbc (default)\n",
      "    Metadata:\n",
      "      creation_time   : 2020-09-15T20:32:55.000000Z\n",
      "      handler_name    : Core Media Video\n",
      "      encoder         : Lavc57.107.100 png\n",
      "frame= 1956 fps=109 q=-0.0 Lsize=N/A time=00:01:21.56 bitrate=N/A speed=4.54x    \n",
      "video:458434kB audio:0kB subtitle:0kB other streams:0kB global headers:0kB muxing overhead: unknown\n",
      "100%|█████████████████████████████████████| 1955/1955 [2:34:15<00:00,  4.73s/it]\n",
      "ffmpeg -r 80.0 -f image2 -i .hr_delme/%6d.png olvidados60.mp4\n",
      "ffmpeg version 3.4.8-0ubuntu0.2 Copyright (c) 2000-2020 the FFmpeg developers\n",
      "  built with gcc 7 (Ubuntu 7.5.0-3ubuntu1~18.04)\n",
      "  configuration: --prefix=/usr --extra-version=0ubuntu0.2 --toolchain=hardened --libdir=/usr/lib/x86_64-linux-gnu --incdir=/usr/include/x86_64-linux-gnu --enable-gpl --disable-stripping --enable-avresample --enable-avisynth --enable-gnutls --enable-ladspa --enable-libass --enable-libbluray --enable-libbs2b --enable-libcaca --enable-libcdio --enable-libflite --enable-libfontconfig --enable-libfreetype --enable-libfribidi --enable-libgme --enable-libgsm --enable-libmp3lame --enable-libmysofa --enable-libopenjpeg --enable-libopenmpt --enable-libopus --enable-libpulse --enable-librubberband --enable-librsvg --enable-libshine --enable-libsnappy --enable-libsoxr --enable-libspeex --enable-libssh --enable-libtheora --enable-libtwolame --enable-libvorbis --enable-libvpx --enable-libwavpack --enable-libwebp --enable-libx265 --enable-libxml2 --enable-libxvid --enable-libzmq --enable-libzvbi --enable-omx --enable-openal --enable-opengl --enable-sdl2 --enable-libdc1394 --enable-libdrm --enable-libiec61883 --enable-chromaprint --enable-frei0r --enable-libopencv --enable-libx264 --enable-shared\n",
      "  libavutil      55. 78.100 / 55. 78.100\n",
      "  libavcodec     57.107.100 / 57.107.100\n",
      "  libavformat    57. 83.100 / 57. 83.100\n",
      "  libavdevice    57. 10.100 / 57. 10.100\n",
      "  libavfilter     6.107.100 /  6.107.100\n",
      "  libavresample   3.  7.  0 /  3.  7.  0\n",
      "  libswscale      4.  8.100 /  4.  8.100\n",
      "  libswresample   2.  9.100 /  2.  9.100\n",
      "  libpostproc    54.  7.100 / 54.  7.100\n",
      "Input #0, image2, from '.hr_delme/%6d.png':\n",
      "  Duration: 00:00:48.89, start: 0.000000, bitrate: N/A\n",
      "    Stream #0:0: Video: png, rgb24(pc), 2560x1920, 80 tbr, 80 tbn, 80 tbc\n",
      "Stream mapping:\n",
      "  Stream #0:0 -> #0:0 (png (native) -> h264 (libx264))\n",
      "Press [q] to stop, [?] for help\n",
      "\u001b[1;36m[libx264 @ 0x5581f61e6a40] \u001b[0musing cpu capabilities: MMX2 SSE2Fast SSSE3 SSE4.2 AVX FMA3 BMI2 AVX2\n",
      "\u001b[1;36m[libx264 @ 0x5581f61e6a40] \u001b[0mprofile High 4:4:4 Predictive, level 5.2, 4:4:4 8-bit\n",
      "\u001b[1;36m[libx264 @ 0x5581f61e6a40] \u001b[0m264 - core 152 r2854 e9a5903 - H.264/MPEG-4 AVC codec - Copyleft 2003-2017 - http://www.videolan.org/x264.html - options: cabac=1 ref=3 deblock=1:0:0 analyse=0x1:0x111 me=hex subme=7 psy=1 psy_rd=1.00:0.00 mixed_ref=1 me_range=16 chroma_me=1 trellis=1 8x8dct=0 cqm=0 deadzone=21,11 fast_pskip=1 chroma_qp_offset=4 threads=12 lookahead_threads=2 sliced_threads=0 nr=0 decimate=1 interlaced=0 bluray_compat=0 constrained_intra=0 bframes=3 b_pyramid=2 b_adapt=1 b_bias=0 direct=1 weightb=1 open_gop=0 weightp=2 keyint=250 keyint_min=25 scenecut=40 intra_refresh=0 rc_lookahead=40 rc=crf mbtree=1 crf=23.0 qcomp=0.60 qpmin=0 qpmax=69 qpstep=4 ip_ratio=1.40 aq=1:1.00\n",
      "Output #0, mp4, to 'olvidados60.mp4':\n",
      "  Metadata:\n",
      "    encoder         : Lavf57.83.100\n",
      "    Stream #0:0: Video: h264 (libx264) (avc1 / 0x31637661), yuv444p, 2560x1920, q=-1--1, 80 fps, 10240 tbn, 80 tbc\n",
      "    Metadata:\n",
      "      encoder         : Lavc57.107.100 libx264\n",
      "    Side data:\n",
      "      cpb: bitrate max/min/avg: 0/0/0 buffer size: 0 vbv_delay: -1\n",
      "frame= 3911 fps= 16 q=-1.0 Lsize=   59681kB time=00:00:48.85 bitrate=10008.2kbits/s speed=0.194x    \n",
      "video:59634kB audio:0kB subtitle:0kB other streams:0kB global headers:0kB muxing overhead: 0.077567%\n",
      "\u001b[1;36m[libx264 @ 0x5581f61e6a40] \u001b[0mframe I:18    Avg QP:22.49  size:100254\n",
      "\u001b[1;36m[libx264 @ 0x5581f61e6a40] \u001b[0mframe P:1194  Avg QP:24.98  size: 31194\n",
      "\u001b[1;36m[libx264 @ 0x5581f61e6a40] \u001b[0mframe B:2699  Avg QP:29.44  size:  8157\n",
      "\u001b[1;36m[libx264 @ 0x5581f61e6a40] \u001b[0mconsecutive B-frames:  4.7%  9.6%  1.1% 84.7%\n",
      "\u001b[1;36m[libx264 @ 0x5581f61e6a40] \u001b[0mmb I  I16..4: 57.6%  0.0% 42.4%\n",
      "\u001b[1;36m[libx264 @ 0x5581f61e6a40] \u001b[0mmb P  I16..4: 15.7%  0.0%  1.2%  P16..4: 41.0%  5.7%  1.3%  0.0%  0.0%    skip:35.2%\n",
      "\u001b[1;36m[libx264 @ 0x5581f61e6a40] \u001b[0mmb B  I16..4:  1.2%  0.0%  0.1%  B16..8: 28.8%  0.9%  0.1%  direct: 0.2%  skip:68.7%  L0:40.6% L1:58.7% BI: 0.8%\n",
      "\u001b[1;36m[libx264 @ 0x5581f61e6a40] \u001b[0mcoded y,u,v intra: 6.3% 0.0% 0.0% inter: 2.5% 0.0% 0.0%\n",
      "\u001b[1;36m[libx264 @ 0x5581f61e6a40] \u001b[0mi16 v,h,dc,p: 36% 27% 13% 24%\n",
      "\u001b[1;36m[libx264 @ 0x5581f61e6a40] \u001b[0mi4 v,h,dc,ddl,ddr,vr,hd,vl,hu: 26% 19% 29%  5%  5%  5%  5%  4%  2%\n",
      "\u001b[1;36m[libx264 @ 0x5581f61e6a40] \u001b[0mWeighted P-Frames: Y:1.8% UV:0.3%\n",
      "\u001b[1;36m[libx264 @ 0x5581f61e6a40] \u001b[0mref P L0: 59.6% 11.0% 24.2%  5.0%  0.1%\n",
      "\u001b[1;36m[libx264 @ 0x5581f61e6a40] \u001b[0mref B L0: 91.6%  7.3%  1.1%\n",
      "\u001b[1;36m[libx264 @ 0x5581f61e6a40] \u001b[0mref B L1: 96.9%  3.1%\n",
      "\u001b[1;36m[libx264 @ 0x5581f61e6a40] \u001b[0mkb/s:9992.71\n"
     ]
    }
   ],
   "source": [
    "!python zooming/codes/video_to_zsm.py --video '{INPUT_FILEPATH}' --model '{pretrainedpath}' --output '{OUTPUT_FILEPATH}' --fps 80 --N_out 3"
   ]
  },
  {
   "cell_type": "code",
   "execution_count": null,
   "metadata": {},
   "outputs": [],
   "source": []
  }
 ],
 "metadata": {
  "kernelspec": {
   "display_name": "Python 3",
   "language": "python",
   "name": "python3"
  },
  "language_info": {
   "codemirror_mode": {
    "name": "ipython",
    "version": 3
   },
   "file_extension": ".py",
   "mimetype": "text/x-python",
   "name": "python",
   "nbconvert_exporter": "python",
   "pygments_lexer": "ipython3",
   "version": "3.6.8"
  }
 },
 "nbformat": 4,
 "nbformat_minor": 4
}
