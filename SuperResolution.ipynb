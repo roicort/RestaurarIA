{
 "cells": [
  {
   "cell_type": "markdown",
   "metadata": {},
   "source": [
    "# Super Image Resolution"
   ]
  },
  {
   "cell_type": "code",
   "execution_count": null,
   "metadata": {},
   "outputs": [],
   "source": [
    "!nvidia-smi --query-gpu=gpu_name,driver_version,memory.total --format=csv"
   ]
  },
  {
   "cell_type": "code",
   "execution_count": null,
   "metadata": {},
   "outputs": [],
   "source": [
    "!pip install --upgrade pip"
   ]
  },
  {
   "cell_type": "code",
   "execution_count": null,
   "metadata": {},
   "outputs": [],
   "source": [
    "!pip install numpy opencv-python lmdb pyyaml pickle5 matplotlib seaborn tqdm"
   ]
  },
  {
   "cell_type": "code",
   "execution_count": null,
   "metadata": {},
   "outputs": [],
   "source": [
    "apt-get update && apt-get install libgl1-mesa-glx ffmpeg"
   ]
  },
  {
   "cell_type": "code",
   "execution_count": null,
   "metadata": {},
   "outputs": [],
   "source": [
    "!git clone https://github.com/xinntao/ESRGAN"
   ]
  },
  {
   "cell_type": "markdown",
   "metadata": {},
   "source": [
    "# SIR"
   ]
  },
  {
   "cell_type": "code",
   "execution_count": null,
   "metadata": {},
   "outputs": [],
   "source": [
    "!git clone https://github.com/idealo/image-super-resolution SIR/src"
   ]
  },
  {
   "cell_type": "code",
   "execution_count": null,
   "metadata": {},
   "outputs": [],
   "source": [
    "%cd SIR/src\n",
    "!pip install -e \".[gpu]\"\n",
    "%cd ../.."
   ]
  },
  {
   "cell_type": "code",
   "execution_count": 1,
   "metadata": {},
   "outputs": [],
   "source": [
    "################# Required Configurations ############################\n",
    "\n",
    "INPUT_FILEPATH = \"example.mp4\" #param{type:\"string\"}\n",
    "\n",
    "OUTPUT_FILEPATH = \"example4K.mp4\" #param{type:\"string\"}\n",
    "\n",
    "################# Optional configurations ############################\n",
    "\n",
    "INPUTFRAMES_DIRPATH = 'SIR/frames' #@param{type:\"string\"}\n",
    "\n",
    "OUTPUTFRAMES_DIRPATH = 'SIR/framesHD' #@param{type:\"string\"}"
   ]
  },
  {
   "cell_type": "code",
   "execution_count": 2,
   "metadata": {},
   "outputs": [],
   "source": [
    "# Importing all necessary libraries \n",
    "import cv2 \n",
    "import os \n",
    "import numpy as np\n",
    "import glob\n",
    "from tqdm import tqdm\n",
    "import os"
   ]
  },
  {
   "cell_type": "code",
   "execution_count": 3,
   "metadata": {},
   "outputs": [],
   "source": [
    "def runnerISR(path_to_images,path_to_output):\n",
    "    \n",
    "    from ISR.models import RDN\n",
    "    import numpy as np\n",
    "    from PIL import Image\n",
    "\n",
    "    files = []\n",
    "\n",
    "    for r, _, f in os.walk(path_to_images):\n",
    "        for file in f:\n",
    "            if '.png' in file:\n",
    "                files.append([os.path.join(r, file),file.replace(\".png\",\"\")])\n",
    "    print(\"\")\n",
    "    files.sort()\n",
    "    files.sort(key=lambda x: int(x[1]))\n",
    "    #-----------------------------------------------\n",
    "    model = RDN(weights='noise-cancel')\n",
    "    \n",
    "    for file in tqdm(range(len(files))):\n",
    "\n",
    "        path = files[file][0]\n",
    "        name = files[file][1]\n",
    "\n",
    "        img = Image.open(path)\n",
    "        sr_img = model.predict(np.array(img))\n",
    "        image2x = Image.fromarray(sr_img)\n",
    "        image2x.save(path_to_output+\"/\"+name+'.jpg','JPEG')"
   ]
  },
  {
   "cell_type": "code",
   "execution_count": 4,
   "metadata": {},
   "outputs": [],
   "source": [
    "rm -R '{INPUTFRAMES_DIRPATH}' && rm -R '{OUTPUTFRAMES_DIRPATH}' "
   ]
  },
  {
   "cell_type": "code",
   "execution_count": 5,
   "metadata": {},
   "outputs": [],
   "source": [
    "mkdir '{INPUTFRAMES_DIRPATH}'&& mkdir '{OUTPUTFRAMES_DIRPATH}'"
   ]
  },
  {
   "cell_type": "code",
   "execution_count": 6,
   "metadata": {},
   "outputs": [
    {
     "name": "stdout",
     "output_type": "stream",
     "text": [
      "ffmpeg version 3.4.8-0ubuntu0.2 Copyright (c) 2000-2020 the FFmpeg developers\n",
      "  built with gcc 7 (Ubuntu 7.5.0-3ubuntu1~18.04)\n",
      "  configuration: --prefix=/usr --extra-version=0ubuntu0.2 --toolchain=hardened --libdir=/usr/lib/x86_64-linux-gnu --incdir=/usr/include/x86_64-linux-gnu --enable-gpl --disable-stripping --enable-avresample --enable-avisynth --enable-gnutls --enable-ladspa --enable-libass --enable-libbluray --enable-libbs2b --enable-libcaca --enable-libcdio --enable-libflite --enable-libfontconfig --enable-libfreetype --enable-libfribidi --enable-libgme --enable-libgsm --enable-libmp3lame --enable-libmysofa --enable-libopenjpeg --enable-libopenmpt --enable-libopus --enable-libpulse --enable-librubberband --enable-librsvg --enable-libshine --enable-libsnappy --enable-libsoxr --enable-libspeex --enable-libssh --enable-libtheora --enable-libtwolame --enable-libvorbis --enable-libvpx --enable-libwavpack --enable-libwebp --enable-libx265 --enable-libxml2 --enable-libxvid --enable-libzmq --enable-libzvbi --enable-omx --enable-openal --enable-opengl --enable-sdl2 --enable-libdc1394 --enable-libdrm --enable-libiec61883 --enable-chromaprint --enable-frei0r --enable-libopencv --enable-libx264 --enable-shared\n",
      "  libavutil      55. 78.100 / 55. 78.100\n",
      "  libavcodec     57.107.100 / 57.107.100\n",
      "  libavformat    57. 83.100 / 57. 83.100\n",
      "  libavdevice    57. 10.100 / 57. 10.100\n",
      "  libavfilter     6.107.100 /  6.107.100\n",
      "  libavresample   3.  7.  0 /  3.  7.  0\n",
      "  libswscale      4.  8.100 /  4.  8.100\n",
      "  libswresample   2.  9.100 /  2.  9.100\n",
      "  libpostproc    54.  7.100 / 54.  7.100\n",
      "Input #0, mov,mp4,m4a,3gp,3g2,mj2, from 'example.mp4':\n",
      "  Metadata:\n",
      "    major_brand     : mp42\n",
      "    minor_version   : 1\n",
      "    compatible_brands: isommp41mp42\n",
      "    creation_time   : 2020-10-13T20:42:03.000000Z\n",
      "  Duration: 00:00:56.86, start: -0.041722, bitrate: 858 kb/s\n",
      "    Stream #0:0(und): Video: h264 (Main) (avc1 / 0x31637661), yuv420p(tv, bt709), 984x720 [SAR 1:1 DAR 41:30], 670 kb/s, 23.16 fps, 23.98 tbr, 90k tbn, 180k tbc (default)\n",
      "    Metadata:\n",
      "      creation_time   : 2020-10-13T20:42:03.000000Z\n",
      "      handler_name    : Core Media Video\n",
      "    Stream #0:1(eng): Audio: aac (LC) (mp4a / 0x6134706D), 44100 Hz, stereo, fltp, 130 kb/s (default)\n",
      "    Metadata:\n",
      "      creation_time   : 2020-10-13T20:42:03.000000Z\n",
      "      handler_name    : Core Media Audio\n",
      "Stream mapping:\n",
      "  Stream #0:0 -> #0:0 (h264 (native) -> png (native))\n",
      "Press [q] to stop, [?] for help\n",
      "Output #0, image2, to 'SIR/frames/%05d.png':\n",
      "  Metadata:\n",
      "    major_brand     : mp42\n",
      "    minor_version   : 1\n",
      "    compatible_brands: isommp41mp42\n",
      "    encoder         : Lavf57.83.100\n",
      "    Stream #0:0(und): Video: png, rgb24, 984x720 [SAR 1:1 DAR 41:30], q=2-31, 200 kb/s, 23.98 fps, 23.98 tbn, 23.98 tbc (default)\n",
      "    Metadata:\n",
      "      creation_time   : 2020-10-13T20:42:03.000000Z\n",
      "      handler_name    : Core Media Video\n",
      "      encoder         : Lavc57.107.100 png\n",
      "frame= 1364 fps= 40 q=-0.0 Lsize=N/A time=00:00:56.88 bitrate=N/A speed=1.66x    \n",
      "video:608107kB audio:0kB subtitle:0kB other streams:0kB global headers:0kB muxing overhead: unknown\n"
     ]
    }
   ],
   "source": [
    "# ffmpeg extract - Generating individual frame PNGs from the source file.\n",
    "filename = os.path.basename(INPUT_FILEPATH)\n",
    "!ffmpeg -r 23.98 -i '{filename}' '{INPUTFRAMES_DIRPATH}/%05d.png'"
   ]
  },
  {
   "cell_type": "code",
   "execution_count": null,
   "metadata": {},
   "outputs": [
    {
     "name": "stdout",
     "output_type": "stream",
     "text": [
      "\n"
     ]
    },
    {
     "name": "stderr",
     "output_type": "stream",
     "text": [
      " 17%|█▋        | 236/1364 [05:53<27:56,  1.49s/it]"
     ]
    }
   ],
   "source": [
    "runnerISR(INPUTFRAMES_DIRPATH,OUTPUTFRAMES_DIRPATH)"
   ]
  },
  {
   "cell_type": "code",
   "execution_count": null,
   "metadata": {},
   "outputs": [],
   "source": [
    "%cd {OUTPUTFRAMES_DIRPATH}\n",
    "! rm 'temp_outputaudio.aac'\n",
    "! ffmpeg -i '../../{INPUT_FILEPATH}' -acodec copy 'temp_outputaudio.aac'\n",
    "! ffmpeg -y -r \"23.98\" -f image2 -pattern_type glob -i '*.jpg' -vcodec libx264 -shortest '../../{OUTPUT_FILEPATH}'\n",
    "%cd ../.."
   ]
  },
  {
   "cell_type": "code",
   "execution_count": null,
   "metadata": {},
   "outputs": [],
   "source": []
  }
 ],
 "metadata": {
  "kernelspec": {
   "display_name": "Python 3",
   "language": "python",
   "name": "python3"
  },
  "language_info": {
   "codemirror_mode": {
    "name": "ipython",
    "version": 3
   },
   "file_extension": ".py",
   "mimetype": "text/x-python",
   "name": "python",
   "nbconvert_exporter": "python",
   "pygments_lexer": "ipython3",
   "version": "3.7.6"
  }
 },
 "nbformat": 4,
 "nbformat_minor": 4
}
