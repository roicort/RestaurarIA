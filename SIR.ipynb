{
 "cells": [
  {
   "cell_type": "markdown",
   "metadata": {},
   "source": [
    "# Image Super Resolution"
   ]
  },
  {
   "cell_type": "code",
   "execution_count": null,
   "metadata": {},
   "outputs": [],
   "source": [
    "!pip install --upgrade pip"
   ]
  },
  {
   "cell_type": "code",
   "execution_count": null,
   "metadata": {},
   "outputs": [],
   "source": [
    "!git clone https://github.com/idealo/image-super-resolution"
   ]
  },
  {
   "cell_type": "code",
   "execution_count": null,
   "metadata": {},
   "outputs": [],
   "source": [
    "!pip install -e \".[gpu]\""
   ]
  },
  {
   "cell_type": "code",
   "execution_count": null,
   "metadata": {},
   "outputs": [],
   "source": [
    "!pip install opencv-python"
   ]
  },
  {
   "cell_type": "code",
   "execution_count": null,
   "metadata": {},
   "outputs": [],
   "source": [
    "!apt-get update"
   ]
  },
  {
   "cell_type": "code",
   "execution_count": null,
   "metadata": {},
   "outputs": [],
   "source": [
    "!apt-get install libgl1-mesa-glx ffmpeg"
   ]
  },
  {
   "cell_type": "code",
   "execution_count": null,
   "metadata": {},
   "outputs": [],
   "source": [
    "# Importing all necessary libraries \n",
    "import cv2 \n",
    "import os \n",
    "import numpy as np\n",
    "import glob\n",
    "from tqdm import tqdm"
   ]
  },
  {
   "cell_type": "code",
   "execution_count": null,
   "metadata": {},
   "outputs": [],
   "source": [
    "def runnerISR(path_to_images,path_to_output):\n",
    "    \n",
    "    from ISR.models import RDN\n",
    "    import numpy as np\n",
    "    from PIL import Image\n",
    "\n",
    "    files = []\n",
    "\n",
    "    for r, _, f in os.walk(path_to_images):\n",
    "        for file in f:\n",
    "            if '.jpg' in file:\n",
    "                files.append([os.path.join(r, file),file.replace(\".jpg\",\"\")])\n",
    "    print(\"\")\n",
    "    files.sort()\n",
    "    files.sort(key=lambda x: int(x[1]))\n",
    "    #-----------------------------------------------\n",
    "    model = RDN(weights='noise-cancel')\n",
    "    \n",
    "    for file in tqdm(range(len(files))):\n",
    "\n",
    "        path = files[file][0]\n",
    "        name = files[file][1]\n",
    "\n",
    "        img = Image.open(path)\n",
    "        sr_img = model.predict(np.array(img))\n",
    "        sr_img = Image.fromarray(sr_img)\n",
    "        sr_img.save(path_to_output+name+'.jpg','JPEG')"
   ]
  },
  {
   "cell_type": "code",
   "execution_count": null,
   "metadata": {},
   "outputs": [],
   "source": [
    "def vid2img(file,output):\n",
    "    # Read the video from specified path \n",
    "    cam = cv2.VideoCapture(file) \n",
    "    \n",
    "    try:    \n",
    "        # creating a folder named data \n",
    "        if not os.path.exists(output): \n",
    "            os.makedirs(output) \n",
    "    \n",
    "    # if not created then raise error \n",
    "    except OSError: \n",
    "        print ('Error: Creating directory of data') \n",
    "    \n",
    "    # frame \n",
    "    currentframe = 0\n",
    "    \n",
    "    while(True): \n",
    "        \n",
    "        # reading from frame \n",
    "        ret,frame = cam.read() \n",
    "    \n",
    "        if ret: \n",
    "            # if video is still left continue creating images \n",
    "            name = output + str(currentframe) + '.jpg'\n",
    "            print ('Creating...' + name) \n",
    "    \n",
    "            # writing the extracted images \n",
    "            cv2.imwrite(name, frame) \n",
    "    \n",
    "            # increasing counter so that it will \n",
    "            # show how many frames are created \n",
    "            currentframe += 1\n",
    "            os.system(\"clear\")\n",
    "        else: \n",
    "            break\n",
    "    \n",
    "    # Release all space and windows once done \n",
    "    cam.release() \n",
    "    cv2.destroyAllWindows() "
   ]
  },
  {
   "cell_type": "code",
   "execution_count": null,
   "metadata": {},
   "outputs": [],
   "source": [
    "def img2video(read_path,save_path):\n",
    "    files = []\n",
    "    for r, _, f in os.walk(read_path):\n",
    "        for file in f:\n",
    "            if '.jpg' in file:\n",
    "                files.append([os.path.join(r, file),file.replace(\".jpg\",\"\")])\n",
    "    print(\"\")\n",
    "    files.sort(key=lambda x: int(x[1]))\n",
    "    img = cv2.imread(files[0][0])\n",
    "    height, width, _ = img.shape\n",
    "    size = (width,height)\n",
    "    print(\"VidSize: \",str(size))\n",
    "    print(\"\")\n",
    "    #-----------------------------------------------\n",
    "    out = cv2.VideoWriter(save_path+\"reconstucted.mp4\",cv2.VideoWriter_fourcc(*'mp4v'), 60, size)\n",
    "\n",
    "    for file in tqdm(range(len(files))):\n",
    "        path = files[file][0]\n",
    "        img = cv2.imread(path)\n",
    "        out.write(img)\n",
    "    out.release()"
   ]
  },
  {
   "cell_type": "code",
   "execution_count": null,
   "metadata": {},
   "outputs": [],
   "source": [
    "!rm -R frames/ && rm -R HDframes/ && rm -R output/"
   ]
  },
  {
   "cell_type": "code",
   "execution_count": null,
   "metadata": {},
   "outputs": [],
   "source": [
    "!mkdir frames/ && mkdir HDframes/ && mkdir output/"
   ]
  },
  {
   "cell_type": "code",
   "execution_count": null,
   "metadata": {},
   "outputs": [],
   "source": [
    "vid2img(\"input/input.mp4\",\"frames/\")"
   ]
  },
  {
   "cell_type": "code",
   "execution_count": null,
   "metadata": {},
   "outputs": [],
   "source": [
    "runnerISR(\"frames/\",\"HDframes/\")"
   ]
  },
  {
   "cell_type": "code",
   "execution_count": null,
   "metadata": {},
   "outputs": [],
   "source": [
    "img2video(\"HDframes/\",save_path=\"output/\")"
   ]
  },
  {
   "cell_type": "code",
   "execution_count": null,
   "metadata": {},
   "outputs": [],
   "source": []
  }
 ],
 "metadata": {
  "kernelspec": {
   "display_name": "Python 3",
   "language": "python",
   "name": "python3"
  },
  "language_info": {
   "codemirror_mode": {
    "name": "ipython",
    "version": 3
   },
   "file_extension": ".py",
   "mimetype": "text/x-python",
   "name": "python",
   "nbconvert_exporter": "python",
   "pygments_lexer": "ipython3",
   "version": "3.6.8"
  }
 },
 "nbformat": 4,
 "nbformat_minor": 4
}
